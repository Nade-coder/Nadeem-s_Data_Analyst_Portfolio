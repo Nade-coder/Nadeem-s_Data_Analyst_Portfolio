{
 "cells": [
  {
   "cell_type": "markdown",
   "id": "a5bbff2b",
   "metadata": {},
   "source": [
    "# 🍔 Zomato Bangalore Data Analysis"
   ]
  },
  {
   "cell_type": "markdown",
   "id": "ecd865ad",
   "metadata": {},
   "source": [
    "![img](https://i.pinimg.com/originals/e6/2e/4b/e62e4bcb325a106666623c6d1189167b.jpg)"
   ]
  },
  {
   "cell_type": "markdown",
   "id": "3cb32c0f",
   "metadata": {},
   "source": [
    "# TABLE OF CONTENTS\n",
    "\n",
    "1. [About the Company](#🍔-About-the-Company)\n",
    "2. [About the Dataset](#🍔-About-the-Dataset)\n",
    "3. [Objective](#🍔-Objective)\n",
    "3. [Research Questions](#🍔-Research-Questions)\n",
    "4. [Importing Libraries](#🍔-Importing-Libraries)\n",
    "5. [Loading the Dataset](#🍔-Loading-the-Dataset)\n",
    "6. [Descriptive Data Analysis and Data Cleaning](#🍔-Descriptive-Data-Analysis-and-Data-Cleaning)\n",
    "7. [Exploratory Data Analysis and Visualizations](#🍔-Exploratory-Data-Analysis-and-Visualizations)\n",
    "8. [Summary and Conclusion](#🍔-Summary-and-Conclusion)"
   ]
  },
  {
   "cell_type": "markdown",
   "id": "7fe286e7",
   "metadata": {},
   "source": [
    "# 🍔 About the Company\n",
    "\n",
    "**Zomato**, an Indian multinational company, has revolutionized the food and dining landscape globally. Founded in 2008 by Deepinder Goyal and Pankaj Chaddah, Zomato started as a restaurant discovery platform and has now expanded to offer services like food delivery and table reservation. It provides detailed information about restaurants, including menus, photos, and user reviews, making it easier for customers to make informed dining decisions. \n",
    "\n",
    "Zomato operates in more than 1,000 cities across India, delivering food from partner restaurants directly to customers' doorsteps. Its user-friendly interface and efficient delivery system have made it a favorite among urban dwellers. \n",
    "\n",
    "Internationally, Zomato has a presence in several countries, including the United Arab Emirates, Sri Lanka, Qatar, the United Kingdom, the Philippines, and South Africa. Despite facing stiff competition from other players like Swiggy, Zomato continues to hold a significant market share in the food delivery and hyperlocal space. \n",
    "\n",
    "The company's success can be attributed to its continuous innovation, customer-centric approach, and commitment to providing quality services. As it continues to grow and expand, Zomato is set to redefine the way we experience food."
   ]
  },
  {
   "cell_type": "markdown",
   "id": "39f63893",
   "metadata": {},
   "source": [
    "# 🍔 About the Dataset\n",
    "This dataset contains details of 8923 restautants in Banglore which are registered in Zomato.\n",
    "\n",
    "## Data Dictionary\n",
    "\n",
    "| Column | Description |\n",
    "| --- | --- |\n",
    "|Name| Name of restaurant |\t\n",
    "|URL| website of the restaurant |\t\n",
    "|Cuisines| Different cuisines available |\t\n",
    "|Area| Area in Banglore |\t\n",
    "|Timing| Service duration |\t\n",
    "|Full_Address| Full address of the restaurant |\t\n",
    "|PhoneNumber| Contact number |\t\n",
    "|IsHomeDelivery| Is home delivery available? |\t\n",
    "|isTakeaway| Is takeaway available? |\t\n",
    "|isIndoorSeating| Is indoor seating available? |\t\n",
    "|isVegOnly| Does it serve only vegetarian food? |\t\n",
    "|Restaurant Ratings| Restaurant ratings |\t\n",
    "|Restaurant Reviews| Number of reviews |\t\n",
    "|KnownFor| Best kknown for |\t\n",
    "|PopularDishes| Popular dishes |\t\n",
    "|PeopleKnownFor| People known for |\t\n",
    "|AverageCost| Average cost |  "
   ]
  },
  {
   "cell_type": "markdown",
   "id": "0bcdf9b7",
   "metadata": {},
   "source": [
    "# 🍔 Objective\n",
    "\n",
    "This analysis aims to explore the restaurant landscape in Bangalore, focusing on home delivery services, indoor seating availability, delivery ratings, cost-ratings correlation, popular cuisines, restaurant chains, cost of most reviewed restaurants, and location-based ratings. The objective is to derive insights that can guide restaurant owners and customers in making informed decisions."
   ]
  },
  {
   "cell_type": "markdown",
   "id": "f2284ea9",
   "metadata": {},
   "source": [
    "# 🍔 Research Questions\n",
    "\n",
    "1. How many restaurants in Bangalore do home delivery?\n",
    "2. What percentage of restaurants offer indoor seating facilities?\n",
    "3. What was the most common delivery rating received by restaurants?\n",
    "4. Is there any correlation between the average cost and the ratings of a restaurant?\n",
    "5. What are the most popular cuisines in Bangalore?\n",
    "6. Which restaurants have the highest number of outlets?\n",
    "7. What is the average cost for most reviewed restaurants?\n",
    "8. How does the location of a restaurant affect its rating?"
   ]
  },
  {
   "cell_type": "markdown",
   "id": "b6604e8e",
   "metadata": {},
   "source": [
    "# 🍔 Importing Libraries"
   ]
  },
  {
   "cell_type": "code",
   "execution_count": 1,
   "id": "4085d653",
   "metadata": {},
   "outputs": [],
   "source": [
    "import pandas as pd \n",
    "import matplotlib.pyplot as plt\n",
    "import seaborn as sns\n",
    "plt.style.use('ggplot')\n",
    "import warnings\n",
    "warnings.filterwarnings('ignore')"
   ]
  },
  {
   "cell_type": "markdown",
   "id": "af0f4581",
   "metadata": {},
   "source": [
    "# 🍔 Loading the Dataset"
   ]
  },
  {
   "cell_type": "code",
   "execution_count": 2,
   "id": "dd25b0a6",
   "metadata": {},
   "outputs": [],
   "source": [
    "df = pd.read_csv('BangaloreZomatoData.csv')"
   ]
  },
  {
   "cell_type": "markdown",
   "id": "53db0b87",
   "metadata": {},
   "source": [
    "# 🍔 Descriptive Data Analysis and Data Cleaning"
   ]
  },
  {
   "cell_type": "code",
   "execution_count": 3,
   "id": "8a4e7db3",
   "metadata": {},
   "outputs": [
    {
     "data": {
      "text/plain": [
       "(8923, 17)"
      ]
     },
     "execution_count": 3,
     "metadata": {},
     "output_type": "execute_result"
    }
   ],
   "source": [
    "df.shape"
   ]
  },
  {
   "cell_type": "code",
   "execution_count": 4,
   "id": "730a5cb5",
   "metadata": {},
   "outputs": [
    {
     "data": {
      "text/html": [
       "<div>\n",
       "<style scoped>\n",
       "    .dataframe tbody tr th:only-of-type {\n",
       "        vertical-align: middle;\n",
       "    }\n",
       "\n",
       "    .dataframe tbody tr th {\n",
       "        vertical-align: top;\n",
       "    }\n",
       "\n",
       "    .dataframe thead th {\n",
       "        text-align: right;\n",
       "    }\n",
       "</style>\n",
       "<table border=\"1\" class=\"dataframe\">\n",
       "  <thead>\n",
       "    <tr style=\"text-align: right;\">\n",
       "      <th></th>\n",
       "      <th>Name</th>\n",
       "      <th>URL</th>\n",
       "      <th>Cuisines</th>\n",
       "      <th>Area</th>\n",
       "      <th>Timing</th>\n",
       "      <th>Full_Address</th>\n",
       "      <th>PhoneNumber</th>\n",
       "      <th>IsHomeDelivery</th>\n",
       "      <th>isTakeaway</th>\n",
       "      <th>isIndoorSeating</th>\n",
       "      <th>isVegOnly</th>\n",
       "      <th>Restaurant Ratings</th>\n",
       "      <th>Restaurant Reviews</th>\n",
       "      <th>KnownFor</th>\n",
       "      <th>PopularDishes</th>\n",
       "      <th>PeopleKnownFor</th>\n",
       "      <th>AverageCost</th>\n",
       "    </tr>\n",
       "  </thead>\n",
       "  <tbody>\n",
       "    <tr>\n",
       "      <th>0</th>\n",
       "      <td>Sri Udupi Park</td>\n",
       "      <td>https://www.zomato.com/bangalore/sri-udupi-par...</td>\n",
       "      <td>South Indian, North Indian, Chinese, Street Fo...</td>\n",
       "      <td>Indiranagar, Bangalore</td>\n",
       "      <td>7am – 11pm (Today)</td>\n",
       "      <td>273, Monalisa, 6th Main, 100 Feet Road, Indira...</td>\n",
       "      <td>9.20E+11</td>\n",
       "      <td>1</td>\n",
       "      <td>1</td>\n",
       "      <td>1</td>\n",
       "      <td>1</td>\n",
       "      <td>4.1</td>\n",
       "      <td>16000</td>\n",
       "      <td>NaN</td>\n",
       "      <td>Filtered Coffee, Sambhar, Pav Bhaji, Gobi Manc...</td>\n",
       "      <td>Economical, Prompt Service, Hygiene, Quality F...</td>\n",
       "      <td>450</td>\n",
       "    </tr>\n",
       "    <tr>\n",
       "      <th>1</th>\n",
       "      <td>Meghana Foods</td>\n",
       "      <td>https://www.zomato.com/bangalore/meghana-foods...</td>\n",
       "      <td>Biryani, Andhra, North Indian, Seafood</td>\n",
       "      <td>Indiranagar, Bangalore</td>\n",
       "      <td>Opens at 6:30pm</td>\n",
       "      <td>544, First Floor, CMH Road, Near Indiranagar M...</td>\n",
       "      <td>9.18E+11</td>\n",
       "      <td>1</td>\n",
       "      <td>1</td>\n",
       "      <td>1</td>\n",
       "      <td>0</td>\n",
       "      <td>4.3</td>\n",
       "      <td>28600</td>\n",
       "      <td>Spicy Chicken Biryani</td>\n",
       "      <td>Authentic Hyderabadi Biryani, Paneer Biryani, ...</td>\n",
       "      <td>Boneless Chicken Biryani, Ample Seating Area, ...</td>\n",
       "      <td>700</td>\n",
       "    </tr>\n",
       "    <tr>\n",
       "      <th>2</th>\n",
       "      <td>Donne Biriyani House</td>\n",
       "      <td>https://www.zomato.com/bangalore/donne-biriyan...</td>\n",
       "      <td>Biryani</td>\n",
       "      <td>Indiranagar, Bangalore</td>\n",
       "      <td>11am – 11pm (Today)</td>\n",
       "      <td>8/ 9, 17th F Cross, 2nd Stage, Indiranagar, Ba...</td>\n",
       "      <td>9.19E+11</td>\n",
       "      <td>1</td>\n",
       "      <td>1</td>\n",
       "      <td>1</td>\n",
       "      <td>0</td>\n",
       "      <td>3.5</td>\n",
       "      <td>33200</td>\n",
       "      <td>NaN</td>\n",
       "      <td>NaN</td>\n",
       "      <td>Great Recommendations, Nice Taste, Great Ambia...</td>\n",
       "      <td>300</td>\n",
       "    </tr>\n",
       "    <tr>\n",
       "      <th>3</th>\n",
       "      <td>Domino's Pizza</td>\n",
       "      <td>https://www.zomato.com/bangalore/dominos-pizza...</td>\n",
       "      <td>Pizza, Fast Food, Desserts</td>\n",
       "      <td>Indiranagar, Bangalore</td>\n",
       "      <td>10:57am – 12midnight (Today)</td>\n",
       "      <td>308, 2nd Stage, 100 Feet Road, Indiranagar, Ba...</td>\n",
       "      <td>9.20E+11</td>\n",
       "      <td>1</td>\n",
       "      <td>1</td>\n",
       "      <td>1</td>\n",
       "      <td>0</td>\n",
       "      <td>4.4</td>\n",
       "      <td>8205</td>\n",
       "      <td>NaN</td>\n",
       "      <td>Barbeque Chicken Pizza, Choco Lava Cake, White...</td>\n",
       "      <td>Value for Money, Packaging, Staff, Ambience, Food</td>\n",
       "      <td>400</td>\n",
       "    </tr>\n",
       "    <tr>\n",
       "      <th>4</th>\n",
       "      <td>KFC</td>\n",
       "      <td>https://www.zomato.com/bangalore/kfc-indiranagar</td>\n",
       "      <td>Burger, Fast Food, Biryani, Desserts, Beverages</td>\n",
       "      <td>Indiranagar, Bangalore</td>\n",
       "      <td>11am – 11pm (Today)</td>\n",
       "      <td>38/1A, CMH Road, Indiranagar, Bangalore</td>\n",
       "      <td>9.20E+11</td>\n",
       "      <td>1</td>\n",
       "      <td>1</td>\n",
       "      <td>1</td>\n",
       "      <td>0</td>\n",
       "      <td>4</td>\n",
       "      <td>9148</td>\n",
       "      <td>NaN</td>\n",
       "      <td>Fiery Chicken, Chicken Popcorn, Rice Bowl, Wings</td>\n",
       "      <td>Elegantly Decorated, Great Recommendations, Vi...</td>\n",
       "      <td>400</td>\n",
       "    </tr>\n",
       "  </tbody>\n",
       "</table>\n",
       "</div>"
      ],
      "text/plain": [
       "                   Name                                                URL  \\\n",
       "0        Sri Udupi Park  https://www.zomato.com/bangalore/sri-udupi-par...   \n",
       "1         Meghana Foods  https://www.zomato.com/bangalore/meghana-foods...   \n",
       "2  Donne Biriyani House  https://www.zomato.com/bangalore/donne-biriyan...   \n",
       "3        Domino's Pizza  https://www.zomato.com/bangalore/dominos-pizza...   \n",
       "4                   KFC   https://www.zomato.com/bangalore/kfc-indiranagar   \n",
       "\n",
       "                                            Cuisines                    Area  \\\n",
       "0  South Indian, North Indian, Chinese, Street Fo...  Indiranagar, Bangalore   \n",
       "1             Biryani, Andhra, North Indian, Seafood  Indiranagar, Bangalore   \n",
       "2                                            Biryani  Indiranagar, Bangalore   \n",
       "3                         Pizza, Fast Food, Desserts  Indiranagar, Bangalore   \n",
       "4    Burger, Fast Food, Biryani, Desserts, Beverages  Indiranagar, Bangalore   \n",
       "\n",
       "                         Timing  \\\n",
       "0            7am – 11pm (Today)   \n",
       "1               Opens at 6:30pm   \n",
       "2           11am – 11pm (Today)   \n",
       "3  10:57am – 12midnight (Today)   \n",
       "4           11am – 11pm (Today)   \n",
       "\n",
       "                                        Full_Address PhoneNumber  \\\n",
       "0  273, Monalisa, 6th Main, 100 Feet Road, Indira...    9.20E+11   \n",
       "1  544, First Floor, CMH Road, Near Indiranagar M...    9.18E+11   \n",
       "2  8/ 9, 17th F Cross, 2nd Stage, Indiranagar, Ba...    9.19E+11   \n",
       "3  308, 2nd Stage, 100 Feet Road, Indiranagar, Ba...    9.20E+11   \n",
       "4            38/1A, CMH Road, Indiranagar, Bangalore    9.20E+11   \n",
       "\n",
       "   IsHomeDelivery  isTakeaway  isIndoorSeating  isVegOnly Restaurant Ratings  \\\n",
       "0               1           1                1          1                4.1   \n",
       "1               1           1                1          0                4.3   \n",
       "2               1           1                1          0                3.5   \n",
       "3               1           1                1          0                4.4   \n",
       "4               1           1                1          0                  4   \n",
       "\n",
       "   Restaurant Reviews               KnownFor  \\\n",
       "0               16000                    NaN   \n",
       "1               28600  Spicy Chicken Biryani   \n",
       "2               33200                    NaN   \n",
       "3                8205                    NaN   \n",
       "4                9148                    NaN   \n",
       "\n",
       "                                       PopularDishes  \\\n",
       "0  Filtered Coffee, Sambhar, Pav Bhaji, Gobi Manc...   \n",
       "1  Authentic Hyderabadi Biryani, Paneer Biryani, ...   \n",
       "2                                                NaN   \n",
       "3  Barbeque Chicken Pizza, Choco Lava Cake, White...   \n",
       "4   Fiery Chicken, Chicken Popcorn, Rice Bowl, Wings   \n",
       "\n",
       "                                      PeopleKnownFor  AverageCost  \n",
       "0  Economical, Prompt Service, Hygiene, Quality F...          450  \n",
       "1  Boneless Chicken Biryani, Ample Seating Area, ...          700  \n",
       "2  Great Recommendations, Nice Taste, Great Ambia...          300  \n",
       "3  Value for Money, Packaging, Staff, Ambience, Food          400  \n",
       "4  Elegantly Decorated, Great Recommendations, Vi...          400  "
      ]
     },
     "execution_count": 4,
     "metadata": {},
     "output_type": "execute_result"
    }
   ],
   "source": [
    "df.head()"
   ]
  },
  {
   "cell_type": "code",
   "execution_count": 5,
   "id": "130b9d00",
   "metadata": {},
   "outputs": [
    {
     "name": "stdout",
     "output_type": "stream",
     "text": [
      "<class 'pandas.core.frame.DataFrame'>\n",
      "RangeIndex: 8923 entries, 0 to 8922\n",
      "Data columns (total 17 columns):\n",
      " #   Column              Non-Null Count  Dtype \n",
      "---  ------              --------------  ----- \n",
      " 0   Name                8923 non-null   object\n",
      " 1   URL                 8923 non-null   object\n",
      " 2   Cuisines            8923 non-null   object\n",
      " 3   Area                8923 non-null   object\n",
      " 4   Timing              5820 non-null   object\n",
      " 5   Full_Address        8923 non-null   object\n",
      " 6   PhoneNumber         8923 non-null   object\n",
      " 7   IsHomeDelivery      8923 non-null   int64 \n",
      " 8   isTakeaway          8923 non-null   int64 \n",
      " 9   isIndoorSeating     8923 non-null   int64 \n",
      " 10  isVegOnly           8923 non-null   int64 \n",
      " 11  Restaurant Ratings  8923 non-null   object\n",
      " 12  Restaurant Reviews  8923 non-null   int64 \n",
      " 13  KnownFor            258 non-null    object\n",
      " 14  PopularDishes       1535 non-null   object\n",
      " 15  PeopleKnownFor      3484 non-null   object\n",
      " 16  AverageCost         8923 non-null   int64 \n",
      "dtypes: int64(6), object(11)\n",
      "memory usage: 1.2+ MB\n"
     ]
    }
   ],
   "source": [
    "df.info()"
   ]
  },
  {
   "cell_type": "code",
   "execution_count": 6,
   "id": "55fd38e8",
   "metadata": {},
   "outputs": [
    {
     "data": {
      "text/plain": [
       "Name                     0\n",
       "URL                      0\n",
       "Cuisines                 0\n",
       "Area                     0\n",
       "Timing                3103\n",
       "Full_Address             0\n",
       "PhoneNumber              0\n",
       "IsHomeDelivery           0\n",
       "isTakeaway               0\n",
       "isIndoorSeating          0\n",
       "isVegOnly                0\n",
       "Restaurant Ratings       0\n",
       "Restaurant Reviews       0\n",
       "KnownFor              8665\n",
       "PopularDishes         7388\n",
       "PeopleKnownFor        5439\n",
       "AverageCost              0\n",
       "dtype: int64"
      ]
     },
     "execution_count": 6,
     "metadata": {},
     "output_type": "execute_result"
    }
   ],
   "source": [
    "# Checking for nan values\n",
    "df.isna().sum()"
   ]
  },
  {
   "cell_type": "code",
   "execution_count": 7,
   "id": "7a1a9527",
   "metadata": {},
   "outputs": [],
   "source": [
    "# Drop the columns with most missing values\n",
    "df.drop(['KnownFor', 'PopularDishes', 'PeopleKnownFor'], axis=1, inplace=True)"
   ]
  },
  {
   "cell_type": "code",
   "execution_count": 8,
   "id": "19935e26",
   "metadata": {},
   "outputs": [
    {
     "data": {
      "text/plain": [
       "Index(['Name', 'URL', 'Cuisines', 'Area', 'Timing', 'Full_Address',\n",
       "       'PhoneNumber', 'IsHomeDelivery', 'isTakeaway', 'isIndoorSeating',\n",
       "       'isVegOnly', 'Restaurant Ratings', 'Restaurant Reviews', 'AverageCost'],\n",
       "      dtype='object')"
      ]
     },
     "execution_count": 8,
     "metadata": {},
     "output_type": "execute_result"
    }
   ],
   "source": [
    "df.columns"
   ]
  },
  {
   "cell_type": "code",
   "execution_count": 9,
   "id": "6a327dad",
   "metadata": {
    "scrolled": true
   },
   "outputs": [
    {
     "data": {
      "text/plain": [
       "Index(['name', 'url', 'cuisines', 'area', 'timing', 'full_address',\n",
       "       'phone_number', 'is_home_delivery', 'is_takeaway', 'is_indoor_seating',\n",
       "       'is_veg_only', 'restaurant_ratings', 'restaurant_reviews', 'avg_cost'],\n",
       "      dtype='object')"
      ]
     },
     "execution_count": 9,
     "metadata": {},
     "output_type": "execute_result"
    }
   ],
   "source": [
    "# Renaming the columns\n",
    "df = df.rename(columns={'Name':'name', 'URL':'url', 'Cuisines':'cuisines', 'Area':'area', \n",
    "                        'Timing':'timing', 'Full_Address':'full_address', 'PhoneNumber':'phone_number', \n",
    "                        'IsHomeDelivery':'is_home_delivery', 'isTakeaway':'is_takeaway', \n",
    "                        'isIndoorSeating':'is_indoor_seating', 'isVegOnly':'is_veg_only',  \n",
    "                        'Restaurant Ratings':'restaurant_ratings', 'Restaurant Reviews':'restaurant_reviews',\n",
    "                        'AverageCost':'avg_cost'})\n",
    "df.columns"
   ]
  },
  {
   "cell_type": "code",
   "execution_count": 10,
   "id": "7b0c0495",
   "metadata": {},
   "outputs": [
    {
     "data": {
      "text/html": [
       "<div>\n",
       "<style scoped>\n",
       "    .dataframe tbody tr th:only-of-type {\n",
       "        vertical-align: middle;\n",
       "    }\n",
       "\n",
       "    .dataframe tbody tr th {\n",
       "        vertical-align: top;\n",
       "    }\n",
       "\n",
       "    .dataframe thead th {\n",
       "        text-align: right;\n",
       "    }\n",
       "</style>\n",
       "<table border=\"1\" class=\"dataframe\">\n",
       "  <thead>\n",
       "    <tr style=\"text-align: right;\">\n",
       "      <th></th>\n",
       "      <th>is_home_delivery</th>\n",
       "      <th>is_takeaway</th>\n",
       "      <th>is_indoor_seating</th>\n",
       "      <th>is_veg_only</th>\n",
       "      <th>restaurant_reviews</th>\n",
       "      <th>avg_cost</th>\n",
       "    </tr>\n",
       "  </thead>\n",
       "  <tbody>\n",
       "    <tr>\n",
       "      <th>count</th>\n",
       "      <td>8923.000000</td>\n",
       "      <td>8923.000000</td>\n",
       "      <td>8923.000000</td>\n",
       "      <td>8923.000000</td>\n",
       "      <td>8923.000000</td>\n",
       "      <td>8923.000000</td>\n",
       "    </tr>\n",
       "    <tr>\n",
       "      <th>mean</th>\n",
       "      <td>0.997871</td>\n",
       "      <td>0.660092</td>\n",
       "      <td>0.442676</td>\n",
       "      <td>0.072285</td>\n",
       "      <td>2014.709403</td>\n",
       "      <td>340.225261</td>\n",
       "    </tr>\n",
       "    <tr>\n",
       "      <th>std</th>\n",
       "      <td>0.046098</td>\n",
       "      <td>0.473704</td>\n",
       "      <td>0.496731</td>\n",
       "      <td>0.258974</td>\n",
       "      <td>5524.430542</td>\n",
       "      <td>308.338943</td>\n",
       "    </tr>\n",
       "    <tr>\n",
       "      <th>min</th>\n",
       "      <td>0.000000</td>\n",
       "      <td>0.000000</td>\n",
       "      <td>0.000000</td>\n",
       "      <td>0.000000</td>\n",
       "      <td>0.000000</td>\n",
       "      <td>50.000000</td>\n",
       "    </tr>\n",
       "    <tr>\n",
       "      <th>25%</th>\n",
       "      <td>1.000000</td>\n",
       "      <td>0.000000</td>\n",
       "      <td>0.000000</td>\n",
       "      <td>0.000000</td>\n",
       "      <td>42.000000</td>\n",
       "      <td>150.000000</td>\n",
       "    </tr>\n",
       "    <tr>\n",
       "      <th>50%</th>\n",
       "      <td>1.000000</td>\n",
       "      <td>1.000000</td>\n",
       "      <td>0.000000</td>\n",
       "      <td>0.000000</td>\n",
       "      <td>279.000000</td>\n",
       "      <td>250.000000</td>\n",
       "    </tr>\n",
       "    <tr>\n",
       "      <th>75%</th>\n",
       "      <td>1.000000</td>\n",
       "      <td>1.000000</td>\n",
       "      <td>1.000000</td>\n",
       "      <td>0.000000</td>\n",
       "      <td>1493.500000</td>\n",
       "      <td>400.000000</td>\n",
       "    </tr>\n",
       "    <tr>\n",
       "      <th>max</th>\n",
       "      <td>1.000000</td>\n",
       "      <td>1.000000</td>\n",
       "      <td>1.000000</td>\n",
       "      <td>1.000000</td>\n",
       "      <td>99600.000000</td>\n",
       "      <td>4200.000000</td>\n",
       "    </tr>\n",
       "  </tbody>\n",
       "</table>\n",
       "</div>"
      ],
      "text/plain": [
       "       is_home_delivery  is_takeaway  is_indoor_seating  is_veg_only  \\\n",
       "count       8923.000000  8923.000000        8923.000000  8923.000000   \n",
       "mean           0.997871     0.660092           0.442676     0.072285   \n",
       "std            0.046098     0.473704           0.496731     0.258974   \n",
       "min            0.000000     0.000000           0.000000     0.000000   \n",
       "25%            1.000000     0.000000           0.000000     0.000000   \n",
       "50%            1.000000     1.000000           0.000000     0.000000   \n",
       "75%            1.000000     1.000000           1.000000     0.000000   \n",
       "max            1.000000     1.000000           1.000000     1.000000   \n",
       "\n",
       "       restaurant_reviews     avg_cost  \n",
       "count         8923.000000  8923.000000  \n",
       "mean          2014.709403   340.225261  \n",
       "std           5524.430542   308.338943  \n",
       "min              0.000000    50.000000  \n",
       "25%             42.000000   150.000000  \n",
       "50%            279.000000   250.000000  \n",
       "75%           1493.500000   400.000000  \n",
       "max          99600.000000  4200.000000  "
      ]
     },
     "execution_count": 10,
     "metadata": {},
     "output_type": "execute_result"
    }
   ],
   "source": [
    "df.describe()"
   ]
  },
  {
   "cell_type": "code",
   "execution_count": 11,
   "id": "d86c0ee2",
   "metadata": {},
   "outputs": [
    {
     "data": {
      "text/html": [
       "<div>\n",
       "<style scoped>\n",
       "    .dataframe tbody tr th:only-of-type {\n",
       "        vertical-align: middle;\n",
       "    }\n",
       "\n",
       "    .dataframe tbody tr th {\n",
       "        vertical-align: top;\n",
       "    }\n",
       "\n",
       "    .dataframe thead th {\n",
       "        text-align: right;\n",
       "    }\n",
       "</style>\n",
       "<table border=\"1\" class=\"dataframe\">\n",
       "  <thead>\n",
       "    <tr style=\"text-align: right;\">\n",
       "      <th></th>\n",
       "      <th>name</th>\n",
       "      <th>url</th>\n",
       "      <th>cuisines</th>\n",
       "      <th>area</th>\n",
       "      <th>timing</th>\n",
       "      <th>full_address</th>\n",
       "      <th>phone_number</th>\n",
       "      <th>restaurant_ratings</th>\n",
       "    </tr>\n",
       "  </thead>\n",
       "  <tbody>\n",
       "    <tr>\n",
       "      <th>count</th>\n",
       "      <td>8923</td>\n",
       "      <td>8923</td>\n",
       "      <td>8923</td>\n",
       "      <td>8923</td>\n",
       "      <td>5820</td>\n",
       "      <td>8923</td>\n",
       "      <td>8923</td>\n",
       "      <td>8923</td>\n",
       "    </tr>\n",
       "    <tr>\n",
       "      <th>unique</th>\n",
       "      <td>5242</td>\n",
       "      <td>8923</td>\n",
       "      <td>2939</td>\n",
       "      <td>169</td>\n",
       "      <td>993</td>\n",
       "      <td>7887</td>\n",
       "      <td>25</td>\n",
       "      <td>25</td>\n",
       "    </tr>\n",
       "    <tr>\n",
       "      <th>top</th>\n",
       "      <td>Five Star Chicken</td>\n",
       "      <td>https://www.zomato.com/bangalore/sri-udupi-par...</td>\n",
       "      <td>South Indian</td>\n",
       "      <td>Electronic City, Bangalore</td>\n",
       "      <td>11am – 11pm (Today)</td>\n",
       "      <td>103/77, Srinivasa Reddy Building, Konappana Ag...</td>\n",
       "      <td>9.18E+11</td>\n",
       "      <td>4</td>\n",
       "    </tr>\n",
       "    <tr>\n",
       "      <th>freq</th>\n",
       "      <td>29</td>\n",
       "      <td>1</td>\n",
       "      <td>309</td>\n",
       "      <td>674</td>\n",
       "      <td>474</td>\n",
       "      <td>23</td>\n",
       "      <td>3156</td>\n",
       "      <td>1441</td>\n",
       "    </tr>\n",
       "  </tbody>\n",
       "</table>\n",
       "</div>"
      ],
      "text/plain": [
       "                     name                                                url  \\\n",
       "count                8923                                               8923   \n",
       "unique               5242                                               8923   \n",
       "top     Five Star Chicken  https://www.zomato.com/bangalore/sri-udupi-par...   \n",
       "freq                   29                                                  1   \n",
       "\n",
       "            cuisines                        area               timing  \\\n",
       "count           8923                        8923                 5820   \n",
       "unique          2939                         169                  993   \n",
       "top     South Indian  Electronic City, Bangalore  11am – 11pm (Today)   \n",
       "freq             309                         674                  474   \n",
       "\n",
       "                                             full_address phone_number  \\\n",
       "count                                                8923         8923   \n",
       "unique                                               7887           25   \n",
       "top     103/77, Srinivasa Reddy Building, Konappana Ag...     9.18E+11   \n",
       "freq                                                   23         3156   \n",
       "\n",
       "       restaurant_ratings  \n",
       "count                8923  \n",
       "unique                 25  \n",
       "top                     4  \n",
       "freq                 1441  "
      ]
     },
     "execution_count": 11,
     "metadata": {},
     "output_type": "execute_result"
    }
   ],
   "source": [
    "df.describe(include='object')"
   ]
  },
  {
   "cell_type": "code",
   "execution_count": 12,
   "id": "7b3b0cb5",
   "metadata": {},
   "outputs": [
    {
     "data": {
      "text/plain": [
       "False"
      ]
     },
     "execution_count": 12,
     "metadata": {},
     "output_type": "execute_result"
    }
   ],
   "source": [
    "df.duplicated().any()"
   ]
  },
  {
   "cell_type": "markdown",
   "id": "c8c56bcb",
   "metadata": {},
   "source": [
    "Number of unique restaurants"
   ]
  },
  {
   "cell_type": "code",
   "execution_count": 13,
   "id": "fed6b3b6",
   "metadata": {},
   "outputs": [
    {
     "data": {
      "text/plain": [
       "5242"
      ]
     },
     "execution_count": 13,
     "metadata": {},
     "output_type": "execute_result"
    }
   ],
   "source": [
    "len(df['name'].unique())"
   ]
  },
  {
   "cell_type": "markdown",
   "id": "51afd5c6",
   "metadata": {},
   "source": [
    "- There are 5242 unique Eating outlets but there are 8923 rows in our data. So, lets take a closer look."
   ]
  },
  {
   "cell_type": "code",
   "execution_count": 14,
   "id": "8eb951d3",
   "metadata": {},
   "outputs": [
    {
     "data": {
      "text/plain": [
       "Five Star Chicken                                   29\n",
       "Snack House                                         27\n",
       "Kwality Wall’s Frozen Dessert and Ice Cream Shop    27\n",
       "Momo Monk                                           25\n",
       "Lassi Shop                                          23\n",
       "Pizza Hut                                           23\n",
       "Chai Point                                          22\n",
       "Kanti Sweets                                        22\n",
       "McDonald's                                          21\n",
       "BigBites                                            21\n",
       "Subway                                              21\n",
       "Cafe Coffee Day                                     20\n",
       "Polar Bear                                          20\n",
       "WOW! Momo                                           20\n",
       "Bullet Biryani                                      20\n",
       "NH1 Bowls - Highway To North                        20\n",
       "KFC                                                 20\n",
       "Ovenstory Pizza                                     19\n",
       "Firangi Bake                                        19\n",
       "The Biryani Life                                    19\n",
       "Name: name, dtype: int64"
      ]
     },
     "execution_count": 14,
     "metadata": {},
     "output_type": "execute_result"
    }
   ],
   "source": [
    "df['name'].value_counts().head(20)"
   ]
  },
  {
   "cell_type": "code",
   "execution_count": 15,
   "id": "f8eb93ee",
   "metadata": {},
   "outputs": [
    {
     "data": {
      "text/html": [
       "<div>\n",
       "<style scoped>\n",
       "    .dataframe tbody tr th:only-of-type {\n",
       "        vertical-align: middle;\n",
       "    }\n",
       "\n",
       "    .dataframe tbody tr th {\n",
       "        vertical-align: top;\n",
       "    }\n",
       "\n",
       "    .dataframe thead th {\n",
       "        text-align: right;\n",
       "    }\n",
       "</style>\n",
       "<table border=\"1\" class=\"dataframe\">\n",
       "  <thead>\n",
       "    <tr style=\"text-align: right;\">\n",
       "      <th></th>\n",
       "      <th>name</th>\n",
       "      <th>url</th>\n",
       "      <th>cuisines</th>\n",
       "      <th>area</th>\n",
       "      <th>timing</th>\n",
       "      <th>full_address</th>\n",
       "      <th>phone_number</th>\n",
       "      <th>is_home_delivery</th>\n",
       "      <th>is_takeaway</th>\n",
       "      <th>is_indoor_seating</th>\n",
       "      <th>is_veg_only</th>\n",
       "      <th>restaurant_ratings</th>\n",
       "      <th>restaurant_reviews</th>\n",
       "      <th>avg_cost</th>\n",
       "    </tr>\n",
       "  </thead>\n",
       "  <tbody>\n",
       "    <tr>\n",
       "      <th>36</th>\n",
       "      <td>Five Star Chicken</td>\n",
       "      <td>https://www.zomato.com/bangalore/five-star-chi...</td>\n",
       "      <td>Wraps, Burger, Rolls, Fast Food, Street Food</td>\n",
       "      <td>KR Puram, Bangalore</td>\n",
       "      <td>11am – 11pm (Today)</td>\n",
       "      <td>2007, HAL II Stage, 100 Feet Road, Indiranagar...</td>\n",
       "      <td>9.20E+11</td>\n",
       "      <td>1</td>\n",
       "      <td>1</td>\n",
       "      <td>0</td>\n",
       "      <td>0</td>\n",
       "      <td>3.9</td>\n",
       "      <td>609</td>\n",
       "      <td>100</td>\n",
       "    </tr>\n",
       "    <tr>\n",
       "      <th>647</th>\n",
       "      <td>Five Star Chicken</td>\n",
       "      <td>https://www.zomato.com/bangalore/five-star-chi...</td>\n",
       "      <td>Wraps, Burger, Rolls, Fast Food, Street Food</td>\n",
       "      <td>Marathahalli, Bangalore</td>\n",
       "      <td>11am – 11pm (Today)</td>\n",
       "      <td>Outer Ring Road, Ramanjaneya Layout, Aswath Na...</td>\n",
       "      <td>9.20E+11</td>\n",
       "      <td>1</td>\n",
       "      <td>1</td>\n",
       "      <td>1</td>\n",
       "      <td>0</td>\n",
       "      <td>3.4</td>\n",
       "      <td>823</td>\n",
       "      <td>400</td>\n",
       "    </tr>\n",
       "    <tr>\n",
       "      <th>1304</th>\n",
       "      <td>Five Star Chicken</td>\n",
       "      <td>https://www.zomato.com/bangalore/five-star-chi...</td>\n",
       "      <td>Wraps, Burger, Rolls, Fast Food, Street Food</td>\n",
       "      <td>Whitefield, Bangalore</td>\n",
       "      <td>6pm – 11pm (Today)</td>\n",
       "      <td>69, Opposite Sobha Dream Acres Apartments, Mai...</td>\n",
       "      <td>9.19E+11</td>\n",
       "      <td>1</td>\n",
       "      <td>1</td>\n",
       "      <td>1</td>\n",
       "      <td>0</td>\n",
       "      <td>3.1</td>\n",
       "      <td>41</td>\n",
       "      <td>400</td>\n",
       "    </tr>\n",
       "    <tr>\n",
       "      <th>1431</th>\n",
       "      <td>Five Star Chicken</td>\n",
       "      <td>https://www.zomato.com/bangalore/five-star-chi...</td>\n",
       "      <td>Wraps, Burger, Rolls, Fast Food, Street Food</td>\n",
       "      <td>ITPL Main Road, Whitefield, Bangalore</td>\n",
       "      <td>11am – 11pm (Today)</td>\n",
       "      <td>1, Katha 1/1, Nallurahalli, ITPL Main Road, Wh...</td>\n",
       "      <td>9.19E+11</td>\n",
       "      <td>1</td>\n",
       "      <td>1</td>\n",
       "      <td>1</td>\n",
       "      <td>0</td>\n",
       "      <td>3.5</td>\n",
       "      <td>91</td>\n",
       "      <td>400</td>\n",
       "    </tr>\n",
       "    <tr>\n",
       "      <th>2112</th>\n",
       "      <td>Five Star Chicken</td>\n",
       "      <td>https://www.zomato.com/bangalore/five-star-chi...</td>\n",
       "      <td>Wraps, Burger, Rolls, Fast Food, Street Food</td>\n",
       "      <td>KR Puram, Bangalore</td>\n",
       "      <td>6:32pm – 10pm (Today)</td>\n",
       "      <td>Ayyapa Nagar Main Road, KR Puram, Bangalore</td>\n",
       "      <td>9.20E+11</td>\n",
       "      <td>1</td>\n",
       "      <td>1</td>\n",
       "      <td>0</td>\n",
       "      <td>0</td>\n",
       "      <td>3.9</td>\n",
       "      <td>92</td>\n",
       "      <td>100</td>\n",
       "    </tr>\n",
       "    <tr>\n",
       "      <th>2199</th>\n",
       "      <td>Five Star Chicken</td>\n",
       "      <td>https://www.zomato.com/bangalore/five-star-chi...</td>\n",
       "      <td>Fast Food</td>\n",
       "      <td>Koramangala 5th Block, Bangalore</td>\n",
       "      <td>12noon – 2am (Today)</td>\n",
       "      <td>Shop 3/A, 49, Ground Floor, Industrial Layout,...</td>\n",
       "      <td>9.20E+11</td>\n",
       "      <td>1</td>\n",
       "      <td>1</td>\n",
       "      <td>0</td>\n",
       "      <td>0</td>\n",
       "      <td>3.4</td>\n",
       "      <td>93</td>\n",
       "      <td>100</td>\n",
       "    </tr>\n",
       "    <tr>\n",
       "      <th>2844</th>\n",
       "      <td>Five Star Chicken</td>\n",
       "      <td>https://www.zomato.com/bangalore/five-star-chi...</td>\n",
       "      <td>Wraps, Burger, Rolls, Fast Food, Street Food</td>\n",
       "      <td>HSR, Bangalore</td>\n",
       "      <td>12midnight – 6am, 1pm – 12midnight (Today)</td>\n",
       "      <td>Shop 1152, 22nd B Main, 22nd Cross, HSR, Banga...</td>\n",
       "      <td>9.20E+11</td>\n",
       "      <td>1</td>\n",
       "      <td>1</td>\n",
       "      <td>1</td>\n",
       "      <td>0</td>\n",
       "      <td>4.1</td>\n",
       "      <td>382</td>\n",
       "      <td>400</td>\n",
       "    </tr>\n",
       "    <tr>\n",
       "      <th>3363</th>\n",
       "      <td>Five Star Chicken</td>\n",
       "      <td>https://www.zomato.com/bangalore/five-star-chi...</td>\n",
       "      <td>Fast Food</td>\n",
       "      <td>Jayanagar, Bangalore</td>\n",
       "      <td>11:30am – 11pm (Today)</td>\n",
       "      <td>32, 30th Cross, Swagath Main Road, Thilaknagar...</td>\n",
       "      <td>9.19E+11</td>\n",
       "      <td>1</td>\n",
       "      <td>1</td>\n",
       "      <td>1</td>\n",
       "      <td>0</td>\n",
       "      <td>3.9</td>\n",
       "      <td>2</td>\n",
       "      <td>250</td>\n",
       "    </tr>\n",
       "    <tr>\n",
       "      <th>3829</th>\n",
       "      <td>Five Star Chicken</td>\n",
       "      <td>https://www.zomato.com/bangalore/five-star-chi...</td>\n",
       "      <td>Wraps, Burger, Rolls, Fast Food, Street Food</td>\n",
       "      <td>JP Nagar, Bangalore</td>\n",
       "      <td>11am – 11:30pm (Today)</td>\n",
       "      <td>24th Main Road, Opp. Bindiya Residency, JP Nag...</td>\n",
       "      <td>9.19E+11</td>\n",
       "      <td>1</td>\n",
       "      <td>1</td>\n",
       "      <td>1</td>\n",
       "      <td>0</td>\n",
       "      <td>3.6</td>\n",
       "      <td>6348</td>\n",
       "      <td>400</td>\n",
       "    </tr>\n",
       "    <tr>\n",
       "      <th>3959</th>\n",
       "      <td>Five Star Chicken</td>\n",
       "      <td>https://www.zomato.com/bangalore/five-star-chi...</td>\n",
       "      <td>Fast Food, Roast Chicken</td>\n",
       "      <td>Uttarahalli, Bangalore</td>\n",
       "      <td>11am – 10pm (Today)</td>\n",
       "      <td>14/17 Dhevaraj Building, M K P 80 Feet Road, P...</td>\n",
       "      <td>9.17E+11</td>\n",
       "      <td>1</td>\n",
       "      <td>1</td>\n",
       "      <td>1</td>\n",
       "      <td>0</td>\n",
       "      <td>3.7</td>\n",
       "      <td>43</td>\n",
       "      <td>300</td>\n",
       "    </tr>\n",
       "    <tr>\n",
       "      <th>4221</th>\n",
       "      <td>Five Star Chicken</td>\n",
       "      <td>https://www.zomato.com/bangalore/five-star-chi...</td>\n",
       "      <td>Wraps, Burger, Rolls, Fast Food, Street Food</td>\n",
       "      <td>Kadubeesanahalli, Bangalore</td>\n",
       "      <td>10:30am – 10:30pm (Today)</td>\n",
       "      <td>75, Panathur Main Road, Kadubeesanahalli, Bang...</td>\n",
       "      <td>9.18E+11</td>\n",
       "      <td>1</td>\n",
       "      <td>1</td>\n",
       "      <td>1</td>\n",
       "      <td>0</td>\n",
       "      <td>3.7</td>\n",
       "      <td>2370</td>\n",
       "      <td>400</td>\n",
       "    </tr>\n",
       "    <tr>\n",
       "      <th>4400</th>\n",
       "      <td>Five Star Chicken</td>\n",
       "      <td>https://www.zomato.com/bangalore/five-star-chi...</td>\n",
       "      <td>Fast Food</td>\n",
       "      <td>Sarjapur Road, Bangalore</td>\n",
       "      <td>11:30am – 10pm (Today)</td>\n",
       "      <td>29/1, Doddakanehalli, Near Carmelam Post Offic...</td>\n",
       "      <td>9.19E+11</td>\n",
       "      <td>1</td>\n",
       "      <td>1</td>\n",
       "      <td>1</td>\n",
       "      <td>0</td>\n",
       "      <td>-</td>\n",
       "      <td>11</td>\n",
       "      <td>250</td>\n",
       "    </tr>\n",
       "    <tr>\n",
       "      <th>4491</th>\n",
       "      <td>Five Star Chicken</td>\n",
       "      <td>https://www.zomato.com/bangalore/five-star-chi...</td>\n",
       "      <td>Fast Food, Rolls</td>\n",
       "      <td>HSR, Bangalore</td>\n",
       "      <td>NaN</td>\n",
       "      <td>99/F, Harlur Kudlu Main Road, Harlur, Bommanah...</td>\n",
       "      <td>9.20E+11</td>\n",
       "      <td>1</td>\n",
       "      <td>0</td>\n",
       "      <td>0</td>\n",
       "      <td>0</td>\n",
       "      <td>4</td>\n",
       "      <td>38</td>\n",
       "      <td>100</td>\n",
       "    </tr>\n",
       "    <tr>\n",
       "      <th>4502</th>\n",
       "      <td>Five Star Chicken</td>\n",
       "      <td>https://www.zomato.com/bangalore/five-star-chi...</td>\n",
       "      <td>Fast Food</td>\n",
       "      <td>Bellandur, Bangalore</td>\n",
       "      <td>11am – 12midnight (Today)</td>\n",
       "      <td>Survey 55, Near Sobha Iris, Bellandur, Bangalore</td>\n",
       "      <td>9.20E+11</td>\n",
       "      <td>1</td>\n",
       "      <td>1</td>\n",
       "      <td>1</td>\n",
       "      <td>0</td>\n",
       "      <td>-</td>\n",
       "      <td>6</td>\n",
       "      <td>200</td>\n",
       "    </tr>\n",
       "    <tr>\n",
       "      <th>4598</th>\n",
       "      <td>Five Star Chicken</td>\n",
       "      <td>https://www.zomato.com/bangalore/five-star-chi...</td>\n",
       "      <td>Wraps, Burger, Rolls, Fast Food, Street Food</td>\n",
       "      <td>Richmond Road, Bangalore</td>\n",
       "      <td>11:30am – 11pm (Today)</td>\n",
       "      <td>11,Adam Chambers, Richmond Road, Bangalore</td>\n",
       "      <td>9.19E+11</td>\n",
       "      <td>1</td>\n",
       "      <td>1</td>\n",
       "      <td>0</td>\n",
       "      <td>0</td>\n",
       "      <td>3.6</td>\n",
       "      <td>340</td>\n",
       "      <td>100</td>\n",
       "    </tr>\n",
       "    <tr>\n",
       "      <th>4850</th>\n",
       "      <td>Five Star Chicken</td>\n",
       "      <td>https://www.zomato.com/bangalore/five-star-chi...</td>\n",
       "      <td>Wraps, Burger, Rolls, Fast Food, Street Food</td>\n",
       "      <td>Sadashiv Nagar, Bangalore</td>\n",
       "      <td>11am – 11pm (Today)</td>\n",
       "      <td>68, 2nd Main, Vyalikaval Main Road, Near ICICI...</td>\n",
       "      <td>9.20E+11</td>\n",
       "      <td>1</td>\n",
       "      <td>1</td>\n",
       "      <td>1</td>\n",
       "      <td>0</td>\n",
       "      <td>4.2</td>\n",
       "      <td>462</td>\n",
       "      <td>400</td>\n",
       "    </tr>\n",
       "    <tr>\n",
       "      <th>5575</th>\n",
       "      <td>Five Star Chicken</td>\n",
       "      <td>https://www.zomato.com/bangalore/five-star-chi...</td>\n",
       "      <td>Wraps, Burger, Rolls, Fast Food, Street Food</td>\n",
       "      <td>BTM, Bangalore</td>\n",
       "      <td>1:30pm – 12midnight (Today)</td>\n",
       "      <td>774, 7th Cross, 16th Main Road, Opposite Patha...</td>\n",
       "      <td>9.17E+11</td>\n",
       "      <td>1</td>\n",
       "      <td>1</td>\n",
       "      <td>0</td>\n",
       "      <td>0</td>\n",
       "      <td>4.1</td>\n",
       "      <td>139</td>\n",
       "      <td>100</td>\n",
       "    </tr>\n",
       "    <tr>\n",
       "      <th>5633</th>\n",
       "      <td>Five Star Chicken</td>\n",
       "      <td>https://www.zomato.com/bangalore/five-star-chi...</td>\n",
       "      <td>Wraps, Burger, Rolls, Fast Food, Street Food</td>\n",
       "      <td>Ulsoor, Bangalore</td>\n",
       "      <td>12:30pm – 10:30pm (Today)</td>\n",
       "      <td>Shop 1 B, 5th Street, Om Road, Halasuru, Ulsoo...</td>\n",
       "      <td>9.18E+11</td>\n",
       "      <td>1</td>\n",
       "      <td>1</td>\n",
       "      <td>1</td>\n",
       "      <td>0</td>\n",
       "      <td>3.9</td>\n",
       "      <td>10</td>\n",
       "      <td>400</td>\n",
       "    </tr>\n",
       "    <tr>\n",
       "      <th>5732</th>\n",
       "      <td>Five Star Chicken</td>\n",
       "      <td>https://www.zomato.com/bangalore/five-star-chi...</td>\n",
       "      <td>Wraps, Burger, Rolls, Fast Food, Street Food</td>\n",
       "      <td>Ejipura, Bangalore</td>\n",
       "      <td>11am – 10pm (Today)</td>\n",
       "      <td>38, Ejipura Bus Stop, 1st Main Road, Ejipura, ...</td>\n",
       "      <td>9.20E+11</td>\n",
       "      <td>1</td>\n",
       "      <td>1</td>\n",
       "      <td>1</td>\n",
       "      <td>0</td>\n",
       "      <td>3.7</td>\n",
       "      <td>411</td>\n",
       "      <td>400</td>\n",
       "    </tr>\n",
       "    <tr>\n",
       "      <th>5807</th>\n",
       "      <td>Five Star Chicken</td>\n",
       "      <td>https://www.zomato.com/bangalore/five-star-chi...</td>\n",
       "      <td>Wraps, Burger, Rolls, Fast Food, Street Food</td>\n",
       "      <td>Kalyan Nagar, Bangalore</td>\n",
       "      <td>11am – 11pm (Today)</td>\n",
       "      <td>44th Cross, 5th D Main, 2th Block, HRBR Layout...</td>\n",
       "      <td>9.20E+11</td>\n",
       "      <td>1</td>\n",
       "      <td>1</td>\n",
       "      <td>0</td>\n",
       "      <td>0</td>\n",
       "      <td>3.6</td>\n",
       "      <td>590</td>\n",
       "      <td>400</td>\n",
       "    </tr>\n",
       "    <tr>\n",
       "      <th>6524</th>\n",
       "      <td>Five Star Chicken</td>\n",
       "      <td>https://www.zomato.com/bangalore/five-star-chi...</td>\n",
       "      <td>Wraps, Burger, Rolls, Fast Food, Street Food</td>\n",
       "      <td>Electronic City, Bangalore</td>\n",
       "      <td>11am – 11pm (Today)</td>\n",
       "      <td>Shop 2, Muniven Reddy Building, Opposite Canar...</td>\n",
       "      <td>9.20E+11</td>\n",
       "      <td>1</td>\n",
       "      <td>1</td>\n",
       "      <td>0</td>\n",
       "      <td>0</td>\n",
       "      <td>4.2</td>\n",
       "      <td>132</td>\n",
       "      <td>100</td>\n",
       "    </tr>\n",
       "    <tr>\n",
       "      <th>7290</th>\n",
       "      <td>Five Star Chicken</td>\n",
       "      <td>https://www.zomato.com/bangalore/five-star-chi...</td>\n",
       "      <td>Fast Food</td>\n",
       "      <td>Bannerghatta Road, Bangalore</td>\n",
       "      <td>11am – 10:30pm (Today)</td>\n",
       "      <td>204, Sri Lakshmi Narayana Complex, BTM Layout,...</td>\n",
       "      <td>9.20E+11</td>\n",
       "      <td>1</td>\n",
       "      <td>1</td>\n",
       "      <td>0</td>\n",
       "      <td>0</td>\n",
       "      <td>4.3</td>\n",
       "      <td>158</td>\n",
       "      <td>100</td>\n",
       "    </tr>\n",
       "    <tr>\n",
       "      <th>7398</th>\n",
       "      <td>Five Star Chicken</td>\n",
       "      <td>https://www.zomato.com/bangalore/five-star-chi...</td>\n",
       "      <td>Wraps, Burger, Rolls, Fast Food, Street Food</td>\n",
       "      <td>Bannerghatta Road, Bangalore</td>\n",
       "      <td>11am – 11pm (Today)</td>\n",
       "      <td>36/10, Ground Floor, Yelenahalli, Near SLV Cry...</td>\n",
       "      <td>9.18E+11</td>\n",
       "      <td>1</td>\n",
       "      <td>1</td>\n",
       "      <td>1</td>\n",
       "      <td>0</td>\n",
       "      <td>4.3</td>\n",
       "      <td>124</td>\n",
       "      <td>400</td>\n",
       "    </tr>\n",
       "    <tr>\n",
       "      <th>7506</th>\n",
       "      <td>Five Star Chicken</td>\n",
       "      <td>https://www.zomato.com/bangalore/five-star-chi...</td>\n",
       "      <td>Wraps, Burger, Rolls, Fast Food, Street Food</td>\n",
       "      <td>Jalahalli, Bangalore</td>\n",
       "      <td>12:21pm – 10:30pm (Today)</td>\n",
       "      <td>1 &amp; 2, Gangamma Circle, Jarakbande Kaval, Jala...</td>\n",
       "      <td>9.20E+11</td>\n",
       "      <td>1</td>\n",
       "      <td>1</td>\n",
       "      <td>1</td>\n",
       "      <td>0</td>\n",
       "      <td>4.1</td>\n",
       "      <td>429</td>\n",
       "      <td>400</td>\n",
       "    </tr>\n",
       "    <tr>\n",
       "      <th>7953</th>\n",
       "      <td>Five Star Chicken</td>\n",
       "      <td>https://www.zomato.com/bangalore/five-star-chi...</td>\n",
       "      <td>Wraps, Burger, Rolls, Fast Food, Street Food</td>\n",
       "      <td>Koramangala 8th Block, Bangalore</td>\n",
       "      <td>12noon – 10:30pm (Today)</td>\n",
       "      <td>471, 4th Main, Adugodi Main Road, Koramangala ...</td>\n",
       "      <td>9.20E+11</td>\n",
       "      <td>1</td>\n",
       "      <td>1</td>\n",
       "      <td>0</td>\n",
       "      <td>0</td>\n",
       "      <td>3.8</td>\n",
       "      <td>111</td>\n",
       "      <td>100</td>\n",
       "    </tr>\n",
       "    <tr>\n",
       "      <th>8100</th>\n",
       "      <td>Five Star Chicken</td>\n",
       "      <td>https://www.zomato.com/bangalore/five-star-chi...</td>\n",
       "      <td>Fast Food</td>\n",
       "      <td>Banashankari, Bangalore</td>\n",
       "      <td>11am – 11pm (Today)</td>\n",
       "      <td>187/G, 3rd A Cross, 5th Block, 80 Feet Road, S...</td>\n",
       "      <td>9.17E+11</td>\n",
       "      <td>1</td>\n",
       "      <td>1</td>\n",
       "      <td>1</td>\n",
       "      <td>0</td>\n",
       "      <td>3.5</td>\n",
       "      <td>98</td>\n",
       "      <td>300</td>\n",
       "    </tr>\n",
       "    <tr>\n",
       "      <th>8489</th>\n",
       "      <td>Five Star Chicken</td>\n",
       "      <td>https://www.zomato.com/bangalore/five-star-chi...</td>\n",
       "      <td>Fast Food</td>\n",
       "      <td>Rajajinagar, Bangalore</td>\n",
       "      <td>11am – 11pm (Today)</td>\n",
       "      <td>81/A, 2nd Block, Ground Floor, S.G.C Aradya, R...</td>\n",
       "      <td>9.20E+11</td>\n",
       "      <td>1</td>\n",
       "      <td>1</td>\n",
       "      <td>1</td>\n",
       "      <td>0</td>\n",
       "      <td>4.2</td>\n",
       "      <td>287</td>\n",
       "      <td>300</td>\n",
       "    </tr>\n",
       "    <tr>\n",
       "      <th>8770</th>\n",
       "      <td>Five Star Chicken</td>\n",
       "      <td>https://www.zomato.com/bangalore/five-star-chi...</td>\n",
       "      <td>Wraps, Burger, Rolls, Fast Food, Street Food</td>\n",
       "      <td>Kammanahalli, Bangalore</td>\n",
       "      <td>12:30pm – 10:30pm (Today)</td>\n",
       "      <td>1349/3, Ground Floor, Nehru Road, Kammanahalli...</td>\n",
       "      <td>9.19E+11</td>\n",
       "      <td>1</td>\n",
       "      <td>1</td>\n",
       "      <td>1</td>\n",
       "      <td>0</td>\n",
       "      <td>4.3</td>\n",
       "      <td>81</td>\n",
       "      <td>400</td>\n",
       "    </tr>\n",
       "    <tr>\n",
       "      <th>8858</th>\n",
       "      <td>Five Star Chicken</td>\n",
       "      <td>https://www.zomato.com/bangalore/five-star-chi...</td>\n",
       "      <td>Wraps, Burger, Rolls, Fast Food, Street Food</td>\n",
       "      <td>Frazer Town, Bangalore</td>\n",
       "      <td>11am – 11pm (Today)</td>\n",
       "      <td>1/A, Ground Floor, Davis Road, Frazer Town, Ba...</td>\n",
       "      <td>9.20E+11</td>\n",
       "      <td>1</td>\n",
       "      <td>1</td>\n",
       "      <td>1</td>\n",
       "      <td>0</td>\n",
       "      <td>4.3</td>\n",
       "      <td>184</td>\n",
       "      <td>400</td>\n",
       "    </tr>\n",
       "  </tbody>\n",
       "</table>\n",
       "</div>"
      ],
      "text/plain": [
       "                   name                                                url  \\\n",
       "36    Five Star Chicken  https://www.zomato.com/bangalore/five-star-chi...   \n",
       "647   Five Star Chicken  https://www.zomato.com/bangalore/five-star-chi...   \n",
       "1304  Five Star Chicken  https://www.zomato.com/bangalore/five-star-chi...   \n",
       "1431  Five Star Chicken  https://www.zomato.com/bangalore/five-star-chi...   \n",
       "2112  Five Star Chicken  https://www.zomato.com/bangalore/five-star-chi...   \n",
       "2199  Five Star Chicken  https://www.zomato.com/bangalore/five-star-chi...   \n",
       "2844  Five Star Chicken  https://www.zomato.com/bangalore/five-star-chi...   \n",
       "3363  Five Star Chicken  https://www.zomato.com/bangalore/five-star-chi...   \n",
       "3829  Five Star Chicken  https://www.zomato.com/bangalore/five-star-chi...   \n",
       "3959  Five Star Chicken  https://www.zomato.com/bangalore/five-star-chi...   \n",
       "4221  Five Star Chicken  https://www.zomato.com/bangalore/five-star-chi...   \n",
       "4400  Five Star Chicken  https://www.zomato.com/bangalore/five-star-chi...   \n",
       "4491  Five Star Chicken  https://www.zomato.com/bangalore/five-star-chi...   \n",
       "4502  Five Star Chicken  https://www.zomato.com/bangalore/five-star-chi...   \n",
       "4598  Five Star Chicken  https://www.zomato.com/bangalore/five-star-chi...   \n",
       "4850  Five Star Chicken  https://www.zomato.com/bangalore/five-star-chi...   \n",
       "5575  Five Star Chicken  https://www.zomato.com/bangalore/five-star-chi...   \n",
       "5633  Five Star Chicken  https://www.zomato.com/bangalore/five-star-chi...   \n",
       "5732  Five Star Chicken  https://www.zomato.com/bangalore/five-star-chi...   \n",
       "5807  Five Star Chicken  https://www.zomato.com/bangalore/five-star-chi...   \n",
       "6524  Five Star Chicken  https://www.zomato.com/bangalore/five-star-chi...   \n",
       "7290  Five Star Chicken  https://www.zomato.com/bangalore/five-star-chi...   \n",
       "7398  Five Star Chicken  https://www.zomato.com/bangalore/five-star-chi...   \n",
       "7506  Five Star Chicken  https://www.zomato.com/bangalore/five-star-chi...   \n",
       "7953  Five Star Chicken  https://www.zomato.com/bangalore/five-star-chi...   \n",
       "8100  Five Star Chicken  https://www.zomato.com/bangalore/five-star-chi...   \n",
       "8489  Five Star Chicken  https://www.zomato.com/bangalore/five-star-chi...   \n",
       "8770  Five Star Chicken  https://www.zomato.com/bangalore/five-star-chi...   \n",
       "8858  Five Star Chicken  https://www.zomato.com/bangalore/five-star-chi...   \n",
       "\n",
       "                                          cuisines  \\\n",
       "36    Wraps, Burger, Rolls, Fast Food, Street Food   \n",
       "647   Wraps, Burger, Rolls, Fast Food, Street Food   \n",
       "1304  Wraps, Burger, Rolls, Fast Food, Street Food   \n",
       "1431  Wraps, Burger, Rolls, Fast Food, Street Food   \n",
       "2112  Wraps, Burger, Rolls, Fast Food, Street Food   \n",
       "2199                                     Fast Food   \n",
       "2844  Wraps, Burger, Rolls, Fast Food, Street Food   \n",
       "3363                                     Fast Food   \n",
       "3829  Wraps, Burger, Rolls, Fast Food, Street Food   \n",
       "3959                      Fast Food, Roast Chicken   \n",
       "4221  Wraps, Burger, Rolls, Fast Food, Street Food   \n",
       "4400                                     Fast Food   \n",
       "4491                              Fast Food, Rolls   \n",
       "4502                                     Fast Food   \n",
       "4598  Wraps, Burger, Rolls, Fast Food, Street Food   \n",
       "4850  Wraps, Burger, Rolls, Fast Food, Street Food   \n",
       "5575  Wraps, Burger, Rolls, Fast Food, Street Food   \n",
       "5633  Wraps, Burger, Rolls, Fast Food, Street Food   \n",
       "5732  Wraps, Burger, Rolls, Fast Food, Street Food   \n",
       "5807  Wraps, Burger, Rolls, Fast Food, Street Food   \n",
       "6524  Wraps, Burger, Rolls, Fast Food, Street Food   \n",
       "7290                                     Fast Food   \n",
       "7398  Wraps, Burger, Rolls, Fast Food, Street Food   \n",
       "7506  Wraps, Burger, Rolls, Fast Food, Street Food   \n",
       "7953  Wraps, Burger, Rolls, Fast Food, Street Food   \n",
       "8100                                     Fast Food   \n",
       "8489                                     Fast Food   \n",
       "8770  Wraps, Burger, Rolls, Fast Food, Street Food   \n",
       "8858  Wraps, Burger, Rolls, Fast Food, Street Food   \n",
       "\n",
       "                                       area  \\\n",
       "36                      KR Puram, Bangalore   \n",
       "647                 Marathahalli, Bangalore   \n",
       "1304                  Whitefield, Bangalore   \n",
       "1431  ITPL Main Road, Whitefield, Bangalore   \n",
       "2112                    KR Puram, Bangalore   \n",
       "2199       Koramangala 5th Block, Bangalore   \n",
       "2844                         HSR, Bangalore   \n",
       "3363                   Jayanagar, Bangalore   \n",
       "3829                    JP Nagar, Bangalore   \n",
       "3959                 Uttarahalli, Bangalore   \n",
       "4221            Kadubeesanahalli, Bangalore   \n",
       "4400               Sarjapur Road, Bangalore   \n",
       "4491                         HSR, Bangalore   \n",
       "4502                   Bellandur, Bangalore   \n",
       "4598               Richmond Road, Bangalore   \n",
       "4850              Sadashiv Nagar, Bangalore   \n",
       "5575                         BTM, Bangalore   \n",
       "5633                      Ulsoor, Bangalore   \n",
       "5732                     Ejipura, Bangalore   \n",
       "5807                Kalyan Nagar, Bangalore   \n",
       "6524             Electronic City, Bangalore   \n",
       "7290           Bannerghatta Road, Bangalore   \n",
       "7398           Bannerghatta Road, Bangalore   \n",
       "7506                   Jalahalli, Bangalore   \n",
       "7953       Koramangala 8th Block, Bangalore   \n",
       "8100                Banashankari, Bangalore   \n",
       "8489                 Rajajinagar, Bangalore   \n",
       "8770                Kammanahalli, Bangalore   \n",
       "8858                 Frazer Town, Bangalore   \n",
       "\n",
       "                                          timing  \\\n",
       "36                           11am – 11pm (Today)   \n",
       "647                          11am – 11pm (Today)   \n",
       "1304                          6pm – 11pm (Today)   \n",
       "1431                         11am – 11pm (Today)   \n",
       "2112                       6:32pm – 10pm (Today)   \n",
       "2199                        12noon – 2am (Today)   \n",
       "2844  12midnight – 6am, 1pm – 12midnight (Today)   \n",
       "3363                      11:30am – 11pm (Today)   \n",
       "3829                      11am – 11:30pm (Today)   \n",
       "3959                         11am – 10pm (Today)   \n",
       "4221                   10:30am – 10:30pm (Today)   \n",
       "4400                      11:30am – 10pm (Today)   \n",
       "4491                                         NaN   \n",
       "4502                   11am – 12midnight (Today)   \n",
       "4598                      11:30am – 11pm (Today)   \n",
       "4850                         11am – 11pm (Today)   \n",
       "5575                 1:30pm – 12midnight (Today)   \n",
       "5633                   12:30pm – 10:30pm (Today)   \n",
       "5732                         11am – 10pm (Today)   \n",
       "5807                         11am – 11pm (Today)   \n",
       "6524                         11am – 11pm (Today)   \n",
       "7290                      11am – 10:30pm (Today)   \n",
       "7398                         11am – 11pm (Today)   \n",
       "7506                   12:21pm – 10:30pm (Today)   \n",
       "7953                    12noon – 10:30pm (Today)   \n",
       "8100                         11am – 11pm (Today)   \n",
       "8489                         11am – 11pm (Today)   \n",
       "8770                   12:30pm – 10:30pm (Today)   \n",
       "8858                         11am – 11pm (Today)   \n",
       "\n",
       "                                           full_address phone_number  \\\n",
       "36    2007, HAL II Stage, 100 Feet Road, Indiranagar...     9.20E+11   \n",
       "647   Outer Ring Road, Ramanjaneya Layout, Aswath Na...     9.20E+11   \n",
       "1304  69, Opposite Sobha Dream Acres Apartments, Mai...     9.19E+11   \n",
       "1431  1, Katha 1/1, Nallurahalli, ITPL Main Road, Wh...     9.19E+11   \n",
       "2112        Ayyapa Nagar Main Road, KR Puram, Bangalore     9.20E+11   \n",
       "2199  Shop 3/A, 49, Ground Floor, Industrial Layout,...     9.20E+11   \n",
       "2844  Shop 1152, 22nd B Main, 22nd Cross, HSR, Banga...     9.20E+11   \n",
       "3363  32, 30th Cross, Swagath Main Road, Thilaknagar...     9.19E+11   \n",
       "3829  24th Main Road, Opp. Bindiya Residency, JP Nag...     9.19E+11   \n",
       "3959  14/17 Dhevaraj Building, M K P 80 Feet Road, P...     9.17E+11   \n",
       "4221  75, Panathur Main Road, Kadubeesanahalli, Bang...     9.18E+11   \n",
       "4400  29/1, Doddakanehalli, Near Carmelam Post Offic...     9.19E+11   \n",
       "4491  99/F, Harlur Kudlu Main Road, Harlur, Bommanah...     9.20E+11   \n",
       "4502   Survey 55, Near Sobha Iris, Bellandur, Bangalore     9.20E+11   \n",
       "4598         11,Adam Chambers, Richmond Road, Bangalore     9.19E+11   \n",
       "4850  68, 2nd Main, Vyalikaval Main Road, Near ICICI...     9.20E+11   \n",
       "5575  774, 7th Cross, 16th Main Road, Opposite Patha...     9.17E+11   \n",
       "5633  Shop 1 B, 5th Street, Om Road, Halasuru, Ulsoo...     9.18E+11   \n",
       "5732  38, Ejipura Bus Stop, 1st Main Road, Ejipura, ...     9.20E+11   \n",
       "5807  44th Cross, 5th D Main, 2th Block, HRBR Layout...     9.20E+11   \n",
       "6524  Shop 2, Muniven Reddy Building, Opposite Canar...     9.20E+11   \n",
       "7290  204, Sri Lakshmi Narayana Complex, BTM Layout,...     9.20E+11   \n",
       "7398  36/10, Ground Floor, Yelenahalli, Near SLV Cry...     9.18E+11   \n",
       "7506  1 & 2, Gangamma Circle, Jarakbande Kaval, Jala...     9.20E+11   \n",
       "7953  471, 4th Main, Adugodi Main Road, Koramangala ...     9.20E+11   \n",
       "8100  187/G, 3rd A Cross, 5th Block, 80 Feet Road, S...     9.17E+11   \n",
       "8489  81/A, 2nd Block, Ground Floor, S.G.C Aradya, R...     9.20E+11   \n",
       "8770  1349/3, Ground Floor, Nehru Road, Kammanahalli...     9.19E+11   \n",
       "8858  1/A, Ground Floor, Davis Road, Frazer Town, Ba...     9.20E+11   \n",
       "\n",
       "      is_home_delivery  is_takeaway  is_indoor_seating  is_veg_only  \\\n",
       "36                   1            1                  0            0   \n",
       "647                  1            1                  1            0   \n",
       "1304                 1            1                  1            0   \n",
       "1431                 1            1                  1            0   \n",
       "2112                 1            1                  0            0   \n",
       "2199                 1            1                  0            0   \n",
       "2844                 1            1                  1            0   \n",
       "3363                 1            1                  1            0   \n",
       "3829                 1            1                  1            0   \n",
       "3959                 1            1                  1            0   \n",
       "4221                 1            1                  1            0   \n",
       "4400                 1            1                  1            0   \n",
       "4491                 1            0                  0            0   \n",
       "4502                 1            1                  1            0   \n",
       "4598                 1            1                  0            0   \n",
       "4850                 1            1                  1            0   \n",
       "5575                 1            1                  0            0   \n",
       "5633                 1            1                  1            0   \n",
       "5732                 1            1                  1            0   \n",
       "5807                 1            1                  0            0   \n",
       "6524                 1            1                  0            0   \n",
       "7290                 1            1                  0            0   \n",
       "7398                 1            1                  1            0   \n",
       "7506                 1            1                  1            0   \n",
       "7953                 1            1                  0            0   \n",
       "8100                 1            1                  1            0   \n",
       "8489                 1            1                  1            0   \n",
       "8770                 1            1                  1            0   \n",
       "8858                 1            1                  1            0   \n",
       "\n",
       "     restaurant_ratings  restaurant_reviews  avg_cost  \n",
       "36                  3.9                 609       100  \n",
       "647                 3.4                 823       400  \n",
       "1304                3.1                  41       400  \n",
       "1431                3.5                  91       400  \n",
       "2112                3.9                  92       100  \n",
       "2199                3.4                  93       100  \n",
       "2844                4.1                 382       400  \n",
       "3363                3.9                   2       250  \n",
       "3829                3.6                6348       400  \n",
       "3959                3.7                  43       300  \n",
       "4221                3.7                2370       400  \n",
       "4400                  -                  11       250  \n",
       "4491                  4                  38       100  \n",
       "4502                  -                   6       200  \n",
       "4598                3.6                 340       100  \n",
       "4850                4.2                 462       400  \n",
       "5575                4.1                 139       100  \n",
       "5633                3.9                  10       400  \n",
       "5732                3.7                 411       400  \n",
       "5807                3.6                 590       400  \n",
       "6524                4.2                 132       100  \n",
       "7290                4.3                 158       100  \n",
       "7398                4.3                 124       400  \n",
       "7506                4.1                 429       400  \n",
       "7953                3.8                 111       100  \n",
       "8100                3.5                  98       300  \n",
       "8489                4.2                 287       300  \n",
       "8770                4.3                  81       400  \n",
       "8858                4.3                 184       400  "
      ]
     },
     "execution_count": 15,
     "metadata": {},
     "output_type": "execute_result"
    }
   ],
   "source": [
    "five_star_chicken = df[df['name'] == 'Five Star Chicken']\n",
    "five_star_chicken"
   ]
  },
  {
   "cell_type": "code",
   "execution_count": 16,
   "id": "dffb079f",
   "metadata": {},
   "outputs": [
    {
     "data": {
      "text/plain": [
       "KR Puram, Bangalore                      2\n",
       "HSR, Bangalore                           2\n",
       "Bannerghatta Road, Bangalore             2\n",
       "BTM, Bangalore                           1\n",
       "Kammanahalli, Bangalore                  1\n",
       "Rajajinagar, Bangalore                   1\n",
       "Banashankari, Bangalore                  1\n",
       "Koramangala 8th Block, Bangalore         1\n",
       "Jalahalli, Bangalore                     1\n",
       "Electronic City, Bangalore               1\n",
       "Kalyan Nagar, Bangalore                  1\n",
       "Ejipura, Bangalore                       1\n",
       "Ulsoor, Bangalore                        1\n",
       "Sadashiv Nagar, Bangalore                1\n",
       "Marathahalli, Bangalore                  1\n",
       "Richmond Road, Bangalore                 1\n",
       "Bellandur, Bangalore                     1\n",
       "Sarjapur Road, Bangalore                 1\n",
       "Kadubeesanahalli, Bangalore              1\n",
       "Uttarahalli, Bangalore                   1\n",
       "JP Nagar, Bangalore                      1\n",
       "Jayanagar, Bangalore                     1\n",
       "Koramangala 5th Block, Bangalore         1\n",
       "ITPL Main Road, Whitefield, Bangalore    1\n",
       "Whitefield, Bangalore                    1\n",
       "Frazer Town, Bangalore                   1\n",
       "Name: area, dtype: int64"
      ]
     },
     "execution_count": 16,
     "metadata": {},
     "output_type": "execute_result"
    }
   ],
   "source": [
    "five_star_chicken['area'].value_counts()"
   ]
  },
  {
   "cell_type": "code",
   "execution_count": 17,
   "id": "df795172",
   "metadata": {
    "scrolled": true
   },
   "outputs": [
    {
     "data": {
      "text/html": [
       "<div>\n",
       "<style scoped>\n",
       "    .dataframe tbody tr th:only-of-type {\n",
       "        vertical-align: middle;\n",
       "    }\n",
       "\n",
       "    .dataframe tbody tr th {\n",
       "        vertical-align: top;\n",
       "    }\n",
       "\n",
       "    .dataframe thead th {\n",
       "        text-align: right;\n",
       "    }\n",
       "</style>\n",
       "<table border=\"1\" class=\"dataframe\">\n",
       "  <thead>\n",
       "    <tr style=\"text-align: right;\">\n",
       "      <th></th>\n",
       "      <th>name</th>\n",
       "      <th>url</th>\n",
       "      <th>cuisines</th>\n",
       "      <th>area</th>\n",
       "      <th>timing</th>\n",
       "      <th>full_address</th>\n",
       "      <th>phone_number</th>\n",
       "      <th>is_home_delivery</th>\n",
       "      <th>is_takeaway</th>\n",
       "      <th>is_indoor_seating</th>\n",
       "      <th>is_veg_only</th>\n",
       "      <th>restaurant_ratings</th>\n",
       "      <th>restaurant_reviews</th>\n",
       "      <th>avg_cost</th>\n",
       "    </tr>\n",
       "  </thead>\n",
       "  <tbody>\n",
       "    <tr>\n",
       "      <th>36</th>\n",
       "      <td>Five Star Chicken</td>\n",
       "      <td>https://www.zomato.com/bangalore/five-star-chi...</td>\n",
       "      <td>Wraps, Burger, Rolls, Fast Food, Street Food</td>\n",
       "      <td>KR Puram, Bangalore</td>\n",
       "      <td>11am – 11pm (Today)</td>\n",
       "      <td>2007, HAL II Stage, 100 Feet Road, Indiranagar...</td>\n",
       "      <td>9.20E+11</td>\n",
       "      <td>1</td>\n",
       "      <td>1</td>\n",
       "      <td>0</td>\n",
       "      <td>0</td>\n",
       "      <td>3.9</td>\n",
       "      <td>609</td>\n",
       "      <td>100</td>\n",
       "    </tr>\n",
       "    <tr>\n",
       "      <th>2112</th>\n",
       "      <td>Five Star Chicken</td>\n",
       "      <td>https://www.zomato.com/bangalore/five-star-chi...</td>\n",
       "      <td>Wraps, Burger, Rolls, Fast Food, Street Food</td>\n",
       "      <td>KR Puram, Bangalore</td>\n",
       "      <td>6:32pm – 10pm (Today)</td>\n",
       "      <td>Ayyapa Nagar Main Road, KR Puram, Bangalore</td>\n",
       "      <td>9.20E+11</td>\n",
       "      <td>1</td>\n",
       "      <td>1</td>\n",
       "      <td>0</td>\n",
       "      <td>0</td>\n",
       "      <td>3.9</td>\n",
       "      <td>92</td>\n",
       "      <td>100</td>\n",
       "    </tr>\n",
       "  </tbody>\n",
       "</table>\n",
       "</div>"
      ],
      "text/plain": [
       "                   name                                                url  \\\n",
       "36    Five Star Chicken  https://www.zomato.com/bangalore/five-star-chi...   \n",
       "2112  Five Star Chicken  https://www.zomato.com/bangalore/five-star-chi...   \n",
       "\n",
       "                                          cuisines                 area  \\\n",
       "36    Wraps, Burger, Rolls, Fast Food, Street Food  KR Puram, Bangalore   \n",
       "2112  Wraps, Burger, Rolls, Fast Food, Street Food  KR Puram, Bangalore   \n",
       "\n",
       "                     timing  \\\n",
       "36      11am – 11pm (Today)   \n",
       "2112  6:32pm – 10pm (Today)   \n",
       "\n",
       "                                           full_address phone_number  \\\n",
       "36    2007, HAL II Stage, 100 Feet Road, Indiranagar...     9.20E+11   \n",
       "2112        Ayyapa Nagar Main Road, KR Puram, Bangalore     9.20E+11   \n",
       "\n",
       "      is_home_delivery  is_takeaway  is_indoor_seating  is_veg_only  \\\n",
       "36                   1            1                  0            0   \n",
       "2112                 1            1                  0            0   \n",
       "\n",
       "     restaurant_ratings  restaurant_reviews  avg_cost  \n",
       "36                  3.9                 609       100  \n",
       "2112                3.9                  92       100  "
      ]
     },
     "execution_count": 17,
     "metadata": {},
     "output_type": "execute_result"
    }
   ],
   "source": [
    "five_star_chicken[five_star_chicken['area'] == 'KR Puram, Bangalore']"
   ]
  },
  {
   "cell_type": "code",
   "execution_count": 18,
   "id": "7a5d5681",
   "metadata": {},
   "outputs": [
    {
     "data": {
      "text/html": [
       "<div>\n",
       "<style scoped>\n",
       "    .dataframe tbody tr th:only-of-type {\n",
       "        vertical-align: middle;\n",
       "    }\n",
       "\n",
       "    .dataframe tbody tr th {\n",
       "        vertical-align: top;\n",
       "    }\n",
       "\n",
       "    .dataframe thead th {\n",
       "        text-align: right;\n",
       "    }\n",
       "</style>\n",
       "<table border=\"1\" class=\"dataframe\">\n",
       "  <thead>\n",
       "    <tr style=\"text-align: right;\">\n",
       "      <th></th>\n",
       "      <th>name</th>\n",
       "      <th>url</th>\n",
       "      <th>cuisines</th>\n",
       "      <th>area</th>\n",
       "      <th>timing</th>\n",
       "      <th>full_address</th>\n",
       "      <th>phone_number</th>\n",
       "      <th>is_home_delivery</th>\n",
       "      <th>is_takeaway</th>\n",
       "      <th>is_indoor_seating</th>\n",
       "      <th>is_veg_only</th>\n",
       "      <th>restaurant_ratings</th>\n",
       "      <th>restaurant_reviews</th>\n",
       "      <th>avg_cost</th>\n",
       "    </tr>\n",
       "  </thead>\n",
       "  <tbody>\n",
       "    <tr>\n",
       "      <th>2844</th>\n",
       "      <td>Five Star Chicken</td>\n",
       "      <td>https://www.zomato.com/bangalore/five-star-chi...</td>\n",
       "      <td>Wraps, Burger, Rolls, Fast Food, Street Food</td>\n",
       "      <td>HSR, Bangalore</td>\n",
       "      <td>12midnight – 6am, 1pm – 12midnight (Today)</td>\n",
       "      <td>Shop 1152, 22nd B Main, 22nd Cross, HSR, Banga...</td>\n",
       "      <td>9.20E+11</td>\n",
       "      <td>1</td>\n",
       "      <td>1</td>\n",
       "      <td>1</td>\n",
       "      <td>0</td>\n",
       "      <td>4.1</td>\n",
       "      <td>382</td>\n",
       "      <td>400</td>\n",
       "    </tr>\n",
       "    <tr>\n",
       "      <th>4491</th>\n",
       "      <td>Five Star Chicken</td>\n",
       "      <td>https://www.zomato.com/bangalore/five-star-chi...</td>\n",
       "      <td>Fast Food, Rolls</td>\n",
       "      <td>HSR, Bangalore</td>\n",
       "      <td>NaN</td>\n",
       "      <td>99/F, Harlur Kudlu Main Road, Harlur, Bommanah...</td>\n",
       "      <td>9.20E+11</td>\n",
       "      <td>1</td>\n",
       "      <td>0</td>\n",
       "      <td>0</td>\n",
       "      <td>0</td>\n",
       "      <td>4</td>\n",
       "      <td>38</td>\n",
       "      <td>100</td>\n",
       "    </tr>\n",
       "  </tbody>\n",
       "</table>\n",
       "</div>"
      ],
      "text/plain": [
       "                   name                                                url  \\\n",
       "2844  Five Star Chicken  https://www.zomato.com/bangalore/five-star-chi...   \n",
       "4491  Five Star Chicken  https://www.zomato.com/bangalore/five-star-chi...   \n",
       "\n",
       "                                          cuisines            area  \\\n",
       "2844  Wraps, Burger, Rolls, Fast Food, Street Food  HSR, Bangalore   \n",
       "4491                              Fast Food, Rolls  HSR, Bangalore   \n",
       "\n",
       "                                          timing  \\\n",
       "2844  12midnight – 6am, 1pm – 12midnight (Today)   \n",
       "4491                                         NaN   \n",
       "\n",
       "                                           full_address phone_number  \\\n",
       "2844  Shop 1152, 22nd B Main, 22nd Cross, HSR, Banga...     9.20E+11   \n",
       "4491  99/F, Harlur Kudlu Main Road, Harlur, Bommanah...     9.20E+11   \n",
       "\n",
       "      is_home_delivery  is_takeaway  is_indoor_seating  is_veg_only  \\\n",
       "2844                 1            1                  1            0   \n",
       "4491                 1            0                  0            0   \n",
       "\n",
       "     restaurant_ratings  restaurant_reviews  avg_cost  \n",
       "2844                4.1                 382       400  \n",
       "4491                  4                  38       100  "
      ]
     },
     "execution_count": 18,
     "metadata": {},
     "output_type": "execute_result"
    }
   ],
   "source": [
    "five_star_chicken[five_star_chicken['area'] == 'HSR, Bangalore']"
   ]
  },
  {
   "cell_type": "markdown",
   "id": "9a6bb655",
   "metadata": {},
   "source": [
    "Although the area is same we notice that the full address is different for both. Hence we don't have to drop the rows and we can continue with our analysis."
   ]
  },
  {
   "cell_type": "markdown",
   "id": "bf192d74",
   "metadata": {},
   "source": [
    "#### Taking a closer look at the restaurant_rating column"
   ]
  },
  {
   "cell_type": "code",
   "execution_count": 19,
   "id": "f308579b",
   "metadata": {
    "scrolled": true
   },
   "outputs": [
    {
     "data": {
      "text/plain": [
       "4      1441\n",
       "-      1131\n",
       "3.9     896\n",
       "4.1     857\n",
       "3.8     758\n",
       "4.2     679\n",
       "3.7     659\n",
       "4.3     541\n",
       "3.6     484\n",
       "3.5     392\n",
       "3.4     283\n",
       "3.3     184\n",
       "4.4     182\n",
       "3.2     123\n",
       "3.1     101\n",
       "4.5      64\n",
       "3        49\n",
       "2.9      32\n",
       "4.6      28\n",
       "2.8      20\n",
       "2.7       8\n",
       "2.6       5\n",
       "2.5       3\n",
       "4.7       2\n",
       "2.4       1\n",
       "Name: restaurant_ratings, dtype: int64"
      ]
     },
     "execution_count": 19,
     "metadata": {},
     "output_type": "execute_result"
    }
   ],
   "source": [
    "df['restaurant_ratings'].value_counts()"
   ]
  },
  {
   "cell_type": "code",
   "execution_count": 20,
   "id": "4acc8f1d",
   "metadata": {},
   "outputs": [],
   "source": [
    "# excluding the rows where the `delivery_ratings` is ' - '\n",
    "df = df[df['restaurant_ratings'] != '-']"
   ]
  },
  {
   "cell_type": "code",
   "execution_count": 21,
   "id": "6b2b47c8",
   "metadata": {
    "scrolled": true
   },
   "outputs": [
    {
     "data": {
      "text/plain": [
       "4      1441\n",
       "3.9     896\n",
       "4.1     857\n",
       "3.8     758\n",
       "4.2     679\n",
       "3.7     659\n",
       "4.3     541\n",
       "3.6     484\n",
       "3.5     392\n",
       "3.4     283\n",
       "3.3     184\n",
       "4.4     182\n",
       "3.2     123\n",
       "3.1     101\n",
       "4.5      64\n",
       "3        49\n",
       "2.9      32\n",
       "4.6      28\n",
       "2.8      20\n",
       "2.7       8\n",
       "2.6       5\n",
       "2.5       3\n",
       "4.7       2\n",
       "2.4       1\n",
       "Name: restaurant_ratings, dtype: int64"
      ]
     },
     "execution_count": 21,
     "metadata": {},
     "output_type": "execute_result"
    }
   ],
   "source": [
    "df['restaurant_ratings'].value_counts()"
   ]
  },
  {
   "cell_type": "code",
   "execution_count": 22,
   "id": "41bfa3d8",
   "metadata": {},
   "outputs": [
    {
     "name": "stdout",
     "output_type": "stream",
     "text": [
      "object\n"
     ]
    }
   ],
   "source": [
    "print(df['restaurant_ratings'].dtypes)"
   ]
  },
  {
   "cell_type": "code",
   "execution_count": 23,
   "id": "3c835d00",
   "metadata": {},
   "outputs": [
    {
     "name": "stdout",
     "output_type": "stream",
     "text": [
      "float64\n"
     ]
    }
   ],
   "source": [
    "# Changing the dtype of `delivery_ratngs` column\n",
    "df['restaurant_ratings'] = df['restaurant_ratings'].astype(float)\n",
    "print(df['restaurant_ratings'].dtypes)"
   ]
  },
  {
   "cell_type": "code",
   "execution_count": 24,
   "id": "7c698459",
   "metadata": {},
   "outputs": [
    {
     "data": {
      "text/plain": [
       "(7792, 14)"
      ]
     },
     "execution_count": 24,
     "metadata": {},
     "output_type": "execute_result"
    }
   ],
   "source": [
    "df.shape"
   ]
  },
  {
   "cell_type": "markdown",
   "id": "43bbebe7",
   "metadata": {},
   "source": [
    "# 🍔 Exploratory Data Analysis and Visualizations"
   ]
  },
  {
   "cell_type": "markdown",
   "id": "f0cdf73a",
   "metadata": {},
   "source": [
    "1. How many restaurants in Bangalore do home delivery?"
   ]
  },
  {
   "cell_type": "code",
   "execution_count": 25,
   "id": "867f74ea",
   "metadata": {},
   "outputs": [
    {
     "data": {
      "text/plain": [
       "1    7783\n",
       "0       9\n",
       "Name: is_home_delivery, dtype: int64"
      ]
     },
     "execution_count": 25,
     "metadata": {},
     "output_type": "execute_result"
    }
   ],
   "source": [
    "home_delivery = df['is_home_delivery'].value_counts()\n",
    "home_delivery"
   ]
  },
  {
   "cell_type": "code",
   "execution_count": 26,
   "id": "66007c75",
   "metadata": {},
   "outputs": [
    {
     "data": {
      "text/plain": [
       "1    0.998845\n",
       "0    0.001155\n",
       "Name: is_home_delivery, dtype: float64"
      ]
     },
     "execution_count": 26,
     "metadata": {},
     "output_type": "execute_result"
    }
   ],
   "source": [
    "home_delivery = df['is_home_delivery'].value_counts(normalize=True)\n",
    "home_delivery"
   ]
  },
  {
   "cell_type": "code",
   "execution_count": 27,
   "id": "5479446b",
   "metadata": {
    "scrolled": true
   },
   "outputs": [
    {
     "data": {
      "image/png": "[encoded data removed]",
      "text/plain": [
       "<Figure size 800x600 with 1 Axes>"
      ]
     },
     "metadata": {},
     "output_type": "display_data"
    }
   ],
   "source": [
    "plt.figure(figsize=(8,6))\n",
    "ax = sns.countplot(data = df, x='is_home_delivery')\n",
    "ax.set_title('Availability of Home Delivery', fontweight='bold')\n",
    "ax.set_xticklabels(['Home Delivery Unavailable', 'Home Delivery Available'])\n",
    "ax.set_xlabel('Home Delivery Availability')\n",
    "plt.show()"
   ]
  },
  {
   "cell_type": "markdown",
   "id": "61dff33d",
   "metadata": {},
   "source": [
    "- `99.8%` i.e almost all restaurants in Bangalore do home delivery."
   ]
  },
  {
   "cell_type": "markdown",
   "id": "3e8cc1a8",
   "metadata": {},
   "source": [
    "2. What percentage of restaurants offer table indoor seating facilities?"
   ]
  },
  {
   "cell_type": "code",
   "execution_count": 28,
   "id": "a881eb90",
   "metadata": {},
   "outputs": [
    {
     "data": {
      "text/plain": [
       "0    4136\n",
       "1    3656\n",
       "Name: is_indoor_seating, dtype: int64"
      ]
     },
     "execution_count": 28,
     "metadata": {},
     "output_type": "execute_result"
    }
   ],
   "source": [
    "indoor_seating = df['is_indoor_seating'].value_counts()\n",
    "indoor_seating"
   ]
  },
  {
   "cell_type": "code",
   "execution_count": 29,
   "id": "496b0f8f",
   "metadata": {},
   "outputs": [
    {
     "data": {
      "text/plain": [
       "0    0.530801\n",
       "1    0.469199\n",
       "Name: is_indoor_seating, dtype: float64"
      ]
     },
     "execution_count": 29,
     "metadata": {},
     "output_type": "execute_result"
    }
   ],
   "source": [
    "indoor_seating = df['is_indoor_seating'].value_counts(normalize=True)\n",
    "indoor_seating"
   ]
  },
  {
   "cell_type": "code",
   "execution_count": 30,
   "id": "6eb96ec8",
   "metadata": {},
   "outputs": [
    {
     "data": {
      "image/png": "[encoded data removed]",
      "text/plain": [
       "<Figure size 800x800 with 1 Axes>"
      ]
     },
     "metadata": {},
     "output_type": "display_data"
    }
   ],
   "source": [
    "colors = sns.color_palette('Set1')\n",
    "labels = ['Seating Not Available', 'Seating Available']\n",
    "plt.figure(figsize=(8,8))\n",
    "plt.title('percentage of Indoor Seating Facilities')\n",
    "plt.pie(indoor_seating, autopct = '%.2f', labels = labels, startangle = 120, colors = colors)\n",
    "plt.show()"
   ]
  },
  {
   "cell_type": "markdown",
   "id": "5ab0ae13",
   "metadata": {},
   "source": [
    "- `53.08%` restaurants don't have seating facility.\n",
    "- `45.92%` restaurants have seating facility."
   ]
  },
  {
   "cell_type": "markdown",
   "id": "c0b3c1b2",
   "metadata": {},
   "source": [
    "3. What was the most common restaurant rating received by restaurants?"
   ]
  },
  {
   "cell_type": "code",
   "execution_count": 31,
   "id": "49002af6",
   "metadata": {},
   "outputs": [
    {
     "data": {
      "text/plain": [
       "4.0    1441\n",
       "3.9     896\n",
       "4.1     857\n",
       "3.8     758\n",
       "4.2     679\n",
       "3.7     659\n",
       "4.3     541\n",
       "3.6     484\n",
       "3.5     392\n",
       "3.4     283\n",
       "3.3     184\n",
       "4.4     182\n",
       "3.2     123\n",
       "3.1     101\n",
       "4.5      64\n",
       "3.0      49\n",
       "2.9      32\n",
       "4.6      28\n",
       "2.8      20\n",
       "2.7       8\n",
       "2.6       5\n",
       "2.5       3\n",
       "4.7       2\n",
       "2.4       1\n",
       "Name: restaurant_ratings, dtype: int64"
      ]
     },
     "execution_count": 31,
     "metadata": {},
     "output_type": "execute_result"
    }
   ],
   "source": [
    "restaurant_rating = df['restaurant_ratings'].value_counts()\n",
    "restaurant_rating"
   ]
  },
  {
   "cell_type": "code",
   "execution_count": 32,
   "id": "53105fe8",
   "metadata": {},
   "outputs": [
    {
     "data": {
      "image/png": "[encoded data removed]",
      "text/plain": [
       "<Figure size 1000x600 with 1 Axes>"
      ]
     },
     "metadata": {},
     "output_type": "display_data"
    }
   ],
   "source": [
    "plt.figure(figsize=(10,6))\n",
    "ax = sns.violinplot(df, x='restaurant_ratings')\n",
    "ax.set_title('Rating Distribution of Restaurants', fontweight='bold')\n",
    "ax.set_xlabel('Restaurant Ratings')\n",
    "plt.show()"
   ]
  },
  {
   "cell_type": "markdown",
   "id": "48ce1858",
   "metadata": {},
   "source": [
    "- The most comon delivery rating is `4.0`"
   ]
  },
  {
   "cell_type": "markdown",
   "id": "04b9e0c5",
   "metadata": {},
   "source": [
    "4. Is there any correlation between the average cost and the ratings of a restaurant?"
   ]
  },
  {
   "cell_type": "code",
   "execution_count": 33,
   "id": "2d6d2f2e",
   "metadata": {},
   "outputs": [
    {
     "data": {
      "text/html": [
       "<div>\n",
       "<style scoped>\n",
       "    .dataframe tbody tr th:only-of-type {\n",
       "        vertical-align: middle;\n",
       "    }\n",
       "\n",
       "    .dataframe tbody tr th {\n",
       "        vertical-align: top;\n",
       "    }\n",
       "\n",
       "    .dataframe thead th {\n",
       "        text-align: right;\n",
       "    }\n",
       "</style>\n",
       "<table border=\"1\" class=\"dataframe\">\n",
       "  <thead>\n",
       "    <tr style=\"text-align: right;\">\n",
       "      <th></th>\n",
       "      <th>avg_cost</th>\n",
       "      <th>restaurant_ratings</th>\n",
       "    </tr>\n",
       "  </thead>\n",
       "  <tbody>\n",
       "    <tr>\n",
       "      <th>avg_cost</th>\n",
       "      <td>1.00000</td>\n",
       "      <td>0.05924</td>\n",
       "    </tr>\n",
       "    <tr>\n",
       "      <th>restaurant_ratings</th>\n",
       "      <td>0.05924</td>\n",
       "      <td>1.00000</td>\n",
       "    </tr>\n",
       "  </tbody>\n",
       "</table>\n",
       "</div>"
      ],
      "text/plain": [
       "                    avg_cost  restaurant_ratings\n",
       "avg_cost             1.00000             0.05924\n",
       "restaurant_ratings   0.05924             1.00000"
      ]
     },
     "execution_count": 33,
     "metadata": {},
     "output_type": "execute_result"
    }
   ],
   "source": [
    "correlation = df[['avg_cost', 'restaurant_ratings']].corr()\n",
    "correlation"
   ]
  },
  {
   "cell_type": "code",
   "execution_count": 34,
   "id": "97a6c067",
   "metadata": {},
   "outputs": [
    {
     "data": {
      "image/png": "[encoded data removed]",
      "text/plain": [
       "<Figure size 1000x600 with 2 Axes>"
      ]
     },
     "metadata": {},
     "output_type": "display_data"
    }
   ],
   "source": [
    "plt.figure(figsize=(10,6))\n",
    "sns.heatmap(correlation, annot=True, cmap='coolwarm')\n",
    "plt.title('Correlation between Average Cost and Ratings')\n",
    "plt.show()"
   ]
  },
  {
   "cell_type": "markdown",
   "id": "e1335d23",
   "metadata": {},
   "source": [
    "- We notice a positive but weak correlation of `0.059`."
   ]
  },
  {
   "cell_type": "markdown",
   "id": "57b10552",
   "metadata": {},
   "source": [
    "5. What are the most popular cuisines in Bangalore?"
   ]
  },
  {
   "cell_type": "code",
   "execution_count": 35,
   "id": "34a757d7",
   "metadata": {
    "scrolled": true
   },
   "outputs": [
    {
     "data": {
      "text/plain": [
       "South Indian                             247\n",
       "Bakery, Desserts                         185\n",
       "North Indian                             164\n",
       "North Indian, Chinese                    124\n",
       "Biryani, South Indian                     92\n",
       "Bakery                                    88\n",
       "Biryani                                   82\n",
       "Ice Cream                                 80\n",
       "Street Food                               74\n",
       "Chinese                                   67\n",
       "Mithai, Street Food                       56\n",
       "Desserts                                  56\n",
       "Pizza, Fast Food, Desserts, Beverages     54\n",
       "Ice Cream, Desserts                       52\n",
       "Biryani, Kebab                            52\n",
       "South Indian, Chinese                     48\n",
       "Biryani, North Indian                     46\n",
       "Desserts, Bakery                          46\n",
       "Pizza, Fast Food                          45\n",
       "Ice Cream, Desserts, Beverages            42\n",
       "Name: cuisines, dtype: int64"
      ]
     },
     "execution_count": 35,
     "metadata": {},
     "output_type": "execute_result"
    }
   ],
   "source": [
    "df['cuisines'].value_counts().head(20)"
   ]
  },
  {
   "cell_type": "markdown",
   "id": "c07128fc",
   "metadata": {},
   "source": [
    "There are multiple cuisines in some rows whereas one single cuisine in another row."
   ]
  },
  {
   "cell_type": "code",
   "execution_count": 36,
   "id": "c1d1e3b7",
   "metadata": {},
   "outputs": [
    {
     "data": {
      "text/plain": [
       " Beverages       2418\n",
       " Desserts        1875\n",
       " Chinese         1861\n",
       " Fast Food       1538\n",
       " North Indian    1481\n",
       "North Indian     1392\n",
       " Biryani          892\n",
       " Shake            854\n",
       "South Indian      840\n",
       "Biryani           809\n",
       " Street Food      745\n",
       " Mughlai          650\n",
       " South Indian     618\n",
       "Chinese           516\n",
       " Ice Cream        461\n",
       " Seafood          414\n",
       "Bakery            406\n",
       "Fast Food         393\n",
       " Kebab            349\n",
       " Sandwich         341\n",
       "Desserts          294\n",
       "Ice Cream         293\n",
       " Rolls            279\n",
       "Pizza             270\n",
       " Burger           259\n",
       "Beverages         239\n",
       "Street Food       230\n",
       " Pizza            207\n",
       "Burger            207\n",
       " Momos            202\n",
       " Continental      175\n",
       "Mithai            174\n",
       " Andhra           162\n",
       "Rolls             153\n",
       " Thai             151\n",
       " Italian          145\n",
       " Juices           142\n",
       " Bakery           130\n",
       " Salad            127\n",
       " Wraps            126\n",
       "Kerala            125\n",
       "Andhra            124\n",
       " Healthy Food     124\n",
       "Momos             121\n",
       " Asian            120\n",
       "Healthy Food       96\n",
       " Pasta             89\n",
       "Italian            80\n",
       "Mughlai            79\n",
       " Arabian           78\n",
       "Name: cuisines, dtype: int64"
      ]
     },
     "execution_count": 36,
     "metadata": {},
     "output_type": "execute_result"
    }
   ],
   "source": [
    "# Split the 'cuisines' column\n",
    "split_cuisines = df['cuisines'].str.split(',', expand=True).stack()\n",
    "\n",
    "# Create a new DataFrame with the split values\n",
    "df_split = pd.DataFrame(split_cuisines, columns=['cuisines'])\n",
    "\n",
    "# Now we can do a value count on the 'cuisine' column\n",
    "cuisine_counts = df_split['cuisines'].value_counts()\n",
    "cuisine_counts.head(50)"
   ]
  },
  {
   "cell_type": "code",
   "execution_count": 37,
   "id": "1a9c0cdd",
   "metadata": {},
   "outputs": [
    {
     "data": {
      "image/png": "[encoded data removed]",
      "text/plain": [
       "<Figure size 1200x600 with 1 Axes>"
      ]
     },
     "metadata": {},
     "output_type": "display_data"
    }
   ],
   "source": [
    "# Plotting the top 10 cuisines in a bar graph\n",
    "plt.figure(figsize=(12,6))\n",
    "ax = sns.barplot(y=cuisine_counts.index[:10], x=cuisine_counts.values[:10], palette='Spectral')\n",
    "ax.set_title('Top 10 Most Popular Cuisines', fontweight='bold')\n",
    "ax.set_xlabel('COUNTS')\n",
    "ax.set_ylabel('CUISINES')\n",
    "plt.show()"
   ]
  },
  {
   "cell_type": "markdown",
   "id": "55eee192",
   "metadata": {},
   "source": [
    "6. Which restaurants have the highest number of outlets?"
   ]
  },
  {
   "cell_type": "code",
   "execution_count": 38,
   "id": "1473b0b1",
   "metadata": {},
   "outputs": [
    {
     "name": "stdout",
     "output_type": "stream",
     "text": [
      "Kwality Wall’s Frozen Dessert and Ice Cream Shop    27\n",
      "Five Star Chicken                                   27\n",
      "Snack House                                         26\n",
      "Momo Monk                                           25\n",
      "Pizza Hut                                           23\n",
      "Lassi Shop                                          23\n",
      "Kanti Sweets                                        22\n",
      "Chai Point                                          22\n",
      "Subway                                              21\n",
      "McDonald's                                          21\n",
      "Cafe Coffee Day                                     20\n",
      "Polar Bear                                          20\n",
      "Bullet Biryani                                      20\n",
      "BigBites                                            20\n",
      "KFC                                                 20\n",
      "NH1 Bowls - Highway To North                        20\n",
      "WOW! Momo                                           20\n",
      "BOX8 - Desi Meals                                   19\n",
      "Ovenstory Pizza                                     19\n",
      "The Good Bowl                                       19\n",
      "Name: name, dtype: int64\n"
     ]
    },
    {
     "data": {
      "image/png": "[encoded data removed]",
      "text/plain": [
       "<Figure size 640x480 with 1 Axes>"
      ]
     },
     "metadata": {},
     "output_type": "display_data"
    }
   ],
   "source": [
    "outlets = df['name'].value_counts().head(20)\n",
    "print(outlets)\n",
    "ax = sns.barplot(y=outlets.index, x=outlets.values, palette='viridis')\n",
    "ax.set_title('Restaurants With Highest Outlets', fontweight='bold')\n",
    "ax.set_xlabel('COUNTS')\n",
    "ax.set_ylabel('RESTATURANTS')\n",
    "plt.show()"
   ]
  },
  {
   "cell_type": "markdown",
   "id": "facf51ed",
   "metadata": {},
   "source": [
    "7. What is the average cost for the most reviewed restaurants?"
   ]
  },
  {
   "cell_type": "code",
   "execution_count": 39,
   "id": "0b06d3ac",
   "metadata": {
    "scrolled": false
   },
   "outputs": [
    {
     "data": {
      "text/html": [
       "<div>\n",
       "<style scoped>\n",
       "    .dataframe tbody tr th:only-of-type {\n",
       "        vertical-align: middle;\n",
       "    }\n",
       "\n",
       "    .dataframe tbody tr th {\n",
       "        vertical-align: top;\n",
       "    }\n",
       "\n",
       "    .dataframe thead th {\n",
       "        text-align: right;\n",
       "    }\n",
       "</style>\n",
       "<table border=\"1\" class=\"dataframe\">\n",
       "  <thead>\n",
       "    <tr style=\"text-align: right;\">\n",
       "      <th></th>\n",
       "      <th>name</th>\n",
       "      <th>area</th>\n",
       "      <th>avg_cost</th>\n",
       "    </tr>\n",
       "  </thead>\n",
       "  <tbody>\n",
       "    <tr>\n",
       "      <th>0</th>\n",
       "      <td>EatFit</td>\n",
       "      <td>ITPL Main Road, Whitefield, Bangalore</td>\n",
       "      <td>200</td>\n",
       "    </tr>\n",
       "    <tr>\n",
       "      <th>1</th>\n",
       "      <td>EatFit</td>\n",
       "      <td>BTM, Bangalore</td>\n",
       "      <td>200</td>\n",
       "    </tr>\n",
       "    <tr>\n",
       "      <th>2</th>\n",
       "      <td>EatFit</td>\n",
       "      <td>Hosur Road, Bangalore</td>\n",
       "      <td>200</td>\n",
       "    </tr>\n",
       "    <tr>\n",
       "      <th>3</th>\n",
       "      <td>Imperio Restaurant</td>\n",
       "      <td>Brookefield, Bangalore</td>\n",
       "      <td>800</td>\n",
       "    </tr>\n",
       "    <tr>\n",
       "      <th>4</th>\n",
       "      <td>Falahaar &amp; Kota Kachori</td>\n",
       "      <td>Koramangala 7th Block, Bangalore</td>\n",
       "      <td>400</td>\n",
       "    </tr>\n",
       "    <tr>\n",
       "      <th>5</th>\n",
       "      <td>EatFit</td>\n",
       "      <td>Indiranagar, Bangalore</td>\n",
       "      <td>200</td>\n",
       "    </tr>\n",
       "    <tr>\n",
       "      <th>6</th>\n",
       "      <td>Ayodhya Upachar</td>\n",
       "      <td>Banashankari, Bangalore</td>\n",
       "      <td>450</td>\n",
       "    </tr>\n",
       "    <tr>\n",
       "      <th>7</th>\n",
       "      <td>Empire Restaurant</td>\n",
       "      <td>Indiranagar, Bangalore</td>\n",
       "      <td>700</td>\n",
       "    </tr>\n",
       "    <tr>\n",
       "      <th>8</th>\n",
       "      <td>Imperio Restaurant</td>\n",
       "      <td>Kalyan Nagar, Bangalore</td>\n",
       "      <td>800</td>\n",
       "    </tr>\n",
       "    <tr>\n",
       "      <th>9</th>\n",
       "      <td>Empire Restaurant</td>\n",
       "      <td>Koramangala 5th Block, Bangalore</td>\n",
       "      <td>700</td>\n",
       "    </tr>\n",
       "    <tr>\n",
       "      <th>10</th>\n",
       "      <td>Meghana Foods</td>\n",
       "      <td>Koramangala 5th Block, Bangalore</td>\n",
       "      <td>700</td>\n",
       "    </tr>\n",
       "    <tr>\n",
       "      <th>11</th>\n",
       "      <td>EatFit</td>\n",
       "      <td>Sarjapur Road, Bangalore</td>\n",
       "      <td>200</td>\n",
       "    </tr>\n",
       "    <tr>\n",
       "      <th>12</th>\n",
       "      <td>Al Daaz</td>\n",
       "      <td>HSR, Bangalore</td>\n",
       "      <td>800</td>\n",
       "    </tr>\n",
       "    <tr>\n",
       "      <th>13</th>\n",
       "      <td>Sri Jayadurga Biryani</td>\n",
       "      <td>Marathahalli, Bangalore</td>\n",
       "      <td>100</td>\n",
       "    </tr>\n",
       "    <tr>\n",
       "      <th>14</th>\n",
       "      <td>Asha Tiffins</td>\n",
       "      <td>HSR, Bangalore</td>\n",
       "      <td>200</td>\n",
       "    </tr>\n",
       "    <tr>\n",
       "      <th>15</th>\n",
       "      <td>Punjabi Nawabi</td>\n",
       "      <td>HSR, Bangalore</td>\n",
       "      <td>1000</td>\n",
       "    </tr>\n",
       "    <tr>\n",
       "      <th>16</th>\n",
       "      <td>Meghana Foods</td>\n",
       "      <td>Jayanagar, Bangalore</td>\n",
       "      <td>700</td>\n",
       "    </tr>\n",
       "    <tr>\n",
       "      <th>17</th>\n",
       "      <td>Meghana Foods</td>\n",
       "      <td>Marathahalli, Bangalore</td>\n",
       "      <td>700</td>\n",
       "    </tr>\n",
       "    <tr>\n",
       "      <th>18</th>\n",
       "      <td>Biryani Pot</td>\n",
       "      <td>BTM, Bangalore</td>\n",
       "      <td>500</td>\n",
       "    </tr>\n",
       "    <tr>\n",
       "      <th>19</th>\n",
       "      <td>EatFit</td>\n",
       "      <td>Rajajinagar, Bangalore</td>\n",
       "      <td>200</td>\n",
       "    </tr>\n",
       "  </tbody>\n",
       "</table>\n",
       "</div>"
      ],
      "text/plain": [
       "                       name                                   area  avg_cost\n",
       "0                    EatFit  ITPL Main Road, Whitefield, Bangalore       200\n",
       "1                    EatFit                         BTM, Bangalore       200\n",
       "2                    EatFit                  Hosur Road, Bangalore       200\n",
       "3        Imperio Restaurant                 Brookefield, Bangalore       800\n",
       "4   Falahaar & Kota Kachori       Koramangala 7th Block, Bangalore       400\n",
       "5                    EatFit                 Indiranagar, Bangalore       200\n",
       "6           Ayodhya Upachar                Banashankari, Bangalore       450\n",
       "7         Empire Restaurant                 Indiranagar, Bangalore       700\n",
       "8        Imperio Restaurant                Kalyan Nagar, Bangalore       800\n",
       "9         Empire Restaurant       Koramangala 5th Block, Bangalore       700\n",
       "10            Meghana Foods       Koramangala 5th Block, Bangalore       700\n",
       "11                   EatFit               Sarjapur Road, Bangalore       200\n",
       "12                  Al Daaz                         HSR, Bangalore       800\n",
       "13    Sri Jayadurga Biryani                Marathahalli, Bangalore       100\n",
       "14             Asha Tiffins                         HSR, Bangalore       200\n",
       "15           Punjabi Nawabi                         HSR, Bangalore      1000\n",
       "16            Meghana Foods                   Jayanagar, Bangalore       700\n",
       "17            Meghana Foods                Marathahalli, Bangalore       700\n",
       "18              Biryani Pot                         BTM, Bangalore       500\n",
       "19                   EatFit                 Rajajinagar, Bangalore       200"
      ]
     },
     "execution_count": 39,
     "metadata": {},
     "output_type": "execute_result"
    }
   ],
   "source": [
    "top_reviewed = df.nlargest(20, 'restaurant_reviews')\n",
    "table = top_reviewed[['name', 'area', 'avg_cost']].reset_index(drop=True)\n",
    "table"
   ]
  },
  {
   "cell_type": "code",
   "execution_count": 40,
   "id": "76088e7c",
   "metadata": {},
   "outputs": [
    {
     "data": {
      "image/png": "[encoded data removed]",
      "text/plain": [
       "<Figure size 640x480 with 1 Axes>"
      ]
     },
     "metadata": {},
     "output_type": "display_data"
    }
   ],
   "source": [
    "\n",
    "ax = sns.barplot(data = top_reviewed, x='avg_cost', y='name', palette='viridis')\n",
    "plt.title('Average Cost at the Most Reviewed Restaurants')\n",
    "plt.xlabel('Average Cost')\n",
    "plt.ylabel('Restaurant')\n",
    "plt.show()"
   ]
  },
  {
   "cell_type": "markdown",
   "id": "cded6cc9",
   "metadata": {},
   "source": [
    "8. How does the location of a restaurant affect its rating?"
   ]
  },
  {
   "cell_type": "code",
   "execution_count": 41,
   "id": "bae3885c",
   "metadata": {},
   "outputs": [
    {
     "data": {
      "image/png": "[encoded data removed]",
      "text/plain": [
       "<Figure size 640x480 with 1 Axes>"
      ]
     },
     "metadata": {},
     "output_type": "display_data"
    }
   ],
   "source": [
    "# Group by 'Location' and calculate the mean 'Rating'\n",
    "location_ratings = df.groupby('area')['restaurant_ratings'].mean().reset_index()\n",
    "\n",
    "# Sort the DataFrame by 'Rating' in descending order\n",
    "location_ratings = location_ratings.sort_values('restaurant_ratings', ascending=False)\n",
    "\n",
    "# Create a bar plot of the top 20 locations\n",
    "top_locations = location_ratings.head(20)\n",
    "sns.barplot(x='restaurant_ratings', y='area', data=top_locations, palette='Spectral')\n",
    "plt.title('Average Rating by Location for Top 20 Locations')\n",
    "plt.xlabel('Average Rating')\n",
    "plt.ylabel('Location')\n",
    "plt.show()"
   ]
  },
  {
   "cell_type": "markdown",
   "id": "8695d92d",
   "metadata": {},
   "source": [
    "9. What factors influence the rating of a restaurant the most?"
   ]
  },
  {
   "cell_type": "markdown",
   "id": "2a31dd62",
   "metadata": {},
   "source": [
    "# 🍔 Summary and Conclusion"
   ]
  },
  {
   "cell_type": "markdown",
   "id": "7fdbf817",
   "metadata": {},
   "source": [
    "### INSIGHTS -\n",
    "1. `99%` of restaurants in Bangalore do food delivery.\n",
    "2. `46.92%` of restaurants in Bangalore have seating facility where `53.08%` don't.\n",
    "3. Most common rating received by restaurants is `4.0`.\n",
    "4. There is a positive correlation of `0.059` of `average cost` with `restaurant rating`, but it's very weak. There may seem to be a slight increase of average cost w.r.t ratings but nothing significant.\n",
    "5. The Top 10 most popular cuisines in Bangalore are -\n",
    "   -  Beverages      \n",
    "   -  Desserts       \n",
    "   -  Chinese        \n",
    "   -  Fast Food      \n",
    "   -  North Indian       \n",
    "   -  Biryani        \n",
    "   -  Shake          \n",
    "   -  South Indian    \n",
    "   -  Biryani         \n",
    "   -  Street Food\n",
    "6. Restaurants with highest number of outlets are - \n",
    "   - Kwality Wall’s Frozen Dessert and Ice Cream Shop :   27\n",
    "   - Five Star Chicken :                                  27\n",
    "   - Snack House :                                        26\n",
    "   - Momo Monk :                                          25\n",
    "   - Pizza Hut :                                          23\n",
    "   - Lassi Shop :                                         23\n",
    "   - Kanti Sweets :                                       22\n",
    "   - Chai Point :                                         22\n",
    "   - Subway :                                             21\n",
    "   - McDonald's :                                         21\n",
    "   - Cafe Coffee Day :                                    20\n",
    "   - Polar Bear :                                         20\n",
    "   - Bullet Biryani :                                     20\n",
    "   - BigBites :                                           20\n",
    "   - KFC :                                                20\n",
    "   - NH1 Bowls - Highway To North :                       20\n",
    "   - WOW! Momo :                                          20\n",
    "   - BOX8 - Desi Meals :                                  19\n",
    "   - Ovenstory Pizza :                                    19\n",
    "   - The Good Bowl :                                      19\n",
    "7. The average cost most reviewed reataurants - \n",
    "   - EatFit\tITPL Main Road, Whitefield\t200\n",
    "   - Imperio Restaurant 800\n",
    "   - Falahaar & Kota Kachori 400\n",
    "   - Ayodhya Upachar 450\n",
    "   - Empire Restaurant 700\n",
    "   - Al Daaz 800\n",
    "   - Sri Jayadurga Biryani 100\n",
    "   - Asha Tiffins\t200\n",
    "   - Punjabi Nawabi 1000\n",
    "   - Meghana Foods 700\n",
    "   - Biryani Pot 500\n",
    "   \n",
    "\n",
    "8. The location of a restaurant can significantly affect its rating due to several factors:\n",
    "\n",
    "   - `Demographics`: The target audience of a restaurant can greatly influence its rating. If a restaurant is located in an area frequented by its target demographic, it’s more likely to receive positive reviews.\n",
    "    - `Accessibility and Visibility`: Restaurants that are easy to find and access tend to have higher ratings. This includes factors like proximity to major roads or landmarks, parking availability, and visibility from the street.\n",
    "   - `Competition`: The presence of other restaurants in the area can affect a restaurant’s rating. If there are many similar restaurants in the same location, it might be harder for a restaurant to stand out and achieve high ratings1.\n",
    "   - `Neighborhood Safety`: Restaurants located in safe neighborhoods may attract more customers and thus receive more reviews and potentially higher ratings1.\n",
    "   - Business Regulations: Local business regulations can also impact a restaurant’s operation and its ratings.\n",
    "However, it’s important to note that while location is a significant factor, it’s not the only one that affects a restaurant’s rating. Other aspects like the quality of food and service, price, and ambiance also play crucial roles."
   ]
  },
  {
   "cell_type": "markdown",
   "id": "6330d674",
   "metadata": {},
   "source": [
    "# 🍔 THE END"
   ]
  }
 ],
 "metadata": {
  "kernelspec": {
   "display_name": "Python 3 (ipykernel)",
   "language": "python",
   "name": "python3"
  },
  "language_info": {
   "codemirror_mode": {
    "name": "ipython",
    "version": 3
   },
   "file_extension": ".py",
   "mimetype": "text/x-python",
   "name": "python",
   "nbconvert_exporter": "python",
   "pygments_lexer": "ipython3",
   "version": "3.11.3"
  }
 },
 "nbformat": 4,
 "nbformat_minor": 5
}
